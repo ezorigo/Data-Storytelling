{
  "nbformat": 4,
  "nbformat_minor": 0,
  "metadata": {
    "colab": {
      "name": "data-storytelling.ipynb",
      "version": "0.3.2",
      "provenance": [],
      "include_colab_link": true
    },
    "kernelspec": {
      "name": "python3",
      "display_name": "Python 3"
    }
  },
  "cells": [
    {
      "cell_type": "markdown",
      "metadata": {
        "id": "view-in-github",
        "colab_type": "text"
      },
      "source": [
        "<a href=\"https://colab.research.google.com/github/ezorigo/Data-Storytelling/blob/master/data_storytelling.ipynb\" target=\"_parent\"><img src=\"https://colab.research.google.com/assets/colab-badge.svg\" alt=\"Open In Colab\"/></a>"
      ]
    },
    {
      "cell_type": "code",
      "metadata": {
        "id": "UYHFnwintdAK",
        "colab_type": "code",
        "outputId": "143e36ce-0274-4825-dc16-c311cd359649",
        "colab": {
          "resources": {
            "http://localhost:8080/nbextensions/google.colab/files.js": {
              "data": "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",
              "ok": true,
              "headers": [
                [
                  "content-type",
                  "application/javascript"
                ]
              ],
              "status": 200,
              "status_text": ""
            }
          },
          "base_uri": "https://localhost:8080/",
          "height": 37
        }
      },
      "source": [
        "# upload data\n",
        "\n",
        "from google.colab import files\n",
        "uploaded = files.upload()"
      ],
      "execution_count": 2,
      "outputs": [
        {
          "output_type": "display_data",
          "data": {
            "text/html": [
              "\n",
              "     <input type=\"file\" id=\"files-f96c7a2e-8cb1-4dd6-8e4b-47bbb0deca23\" name=\"files[]\" multiple disabled />\n",
              "     <output id=\"result-f96c7a2e-8cb1-4dd6-8e4b-47bbb0deca23\">\n",
              "      Upload widget is only available when the cell has been executed in the\n",
              "      current browser session. Please rerun this cell to enable.\n",
              "      </output>\n",
              "      <script src=\"/nbextensions/google.colab/files.js\"></script> "
            ],
            "text/plain": [
              "<IPython.core.display.HTML object>"
            ]
          },
          "metadata": {
            "tags": []
          }
        }
      ]
    },
    {
      "cell_type": "code",
      "metadata": {
        "id": "kedEmtAhtgB1",
        "colab_type": "code",
        "outputId": "a8fea1bb-487e-47ac-b0ba-bde1ae367346",
        "colab": {
          "base_uri": "https://localhost:8080/",
          "height": 221
        }
      },
      "source": [
        "# read the csv into a pandas dataframe\n",
        "\n",
        "import pandas as pd\n",
        "\n",
        "df = pd.read_csv('results.csv')\n",
        "\n",
        "print(df.shape)\n",
        "df.head()"
      ],
      "execution_count": 3,
      "outputs": [
        {
          "output_type": "stream",
          "text": [
            "(40839, 9)\n"
          ],
          "name": "stdout"
        },
        {
          "output_type": "execute_result",
          "data": {
            "text/html": [
              "<div>\n",
              "<style scoped>\n",
              "    .dataframe tbody tr th:only-of-type {\n",
              "        vertical-align: middle;\n",
              "    }\n",
              "\n",
              "    .dataframe tbody tr th {\n",
              "        vertical-align: top;\n",
              "    }\n",
              "\n",
              "    .dataframe thead th {\n",
              "        text-align: right;\n",
              "    }\n",
              "</style>\n",
              "<table border=\"1\" class=\"dataframe\">\n",
              "  <thead>\n",
              "    <tr style=\"text-align: right;\">\n",
              "      <th></th>\n",
              "      <th>date</th>\n",
              "      <th>home_team</th>\n",
              "      <th>away_team</th>\n",
              "      <th>home_score</th>\n",
              "      <th>away_score</th>\n",
              "      <th>tournament</th>\n",
              "      <th>city</th>\n",
              "      <th>country</th>\n",
              "      <th>neutral</th>\n",
              "    </tr>\n",
              "  </thead>\n",
              "  <tbody>\n",
              "    <tr>\n",
              "      <th>0</th>\n",
              "      <td>1872-11-30</td>\n",
              "      <td>Scotland</td>\n",
              "      <td>England</td>\n",
              "      <td>0</td>\n",
              "      <td>0</td>\n",
              "      <td>Friendly</td>\n",
              "      <td>Glasgow</td>\n",
              "      <td>Scotland</td>\n",
              "      <td>False</td>\n",
              "    </tr>\n",
              "    <tr>\n",
              "      <th>1</th>\n",
              "      <td>1873-03-08</td>\n",
              "      <td>England</td>\n",
              "      <td>Scotland</td>\n",
              "      <td>4</td>\n",
              "      <td>2</td>\n",
              "      <td>Friendly</td>\n",
              "      <td>London</td>\n",
              "      <td>England</td>\n",
              "      <td>False</td>\n",
              "    </tr>\n",
              "    <tr>\n",
              "      <th>2</th>\n",
              "      <td>1874-03-07</td>\n",
              "      <td>Scotland</td>\n",
              "      <td>England</td>\n",
              "      <td>2</td>\n",
              "      <td>1</td>\n",
              "      <td>Friendly</td>\n",
              "      <td>Glasgow</td>\n",
              "      <td>Scotland</td>\n",
              "      <td>False</td>\n",
              "    </tr>\n",
              "    <tr>\n",
              "      <th>3</th>\n",
              "      <td>1875-03-06</td>\n",
              "      <td>England</td>\n",
              "      <td>Scotland</td>\n",
              "      <td>2</td>\n",
              "      <td>2</td>\n",
              "      <td>Friendly</td>\n",
              "      <td>London</td>\n",
              "      <td>England</td>\n",
              "      <td>False</td>\n",
              "    </tr>\n",
              "    <tr>\n",
              "      <th>4</th>\n",
              "      <td>1876-03-04</td>\n",
              "      <td>Scotland</td>\n",
              "      <td>England</td>\n",
              "      <td>3</td>\n",
              "      <td>0</td>\n",
              "      <td>Friendly</td>\n",
              "      <td>Glasgow</td>\n",
              "      <td>Scotland</td>\n",
              "      <td>False</td>\n",
              "    </tr>\n",
              "  </tbody>\n",
              "</table>\n",
              "</div>"
            ],
            "text/plain": [
              "         date home_team away_team  ...     city   country neutral\n",
              "0  1872-11-30  Scotland   England  ...  Glasgow  Scotland   False\n",
              "1  1873-03-08   England  Scotland  ...   London   England   False\n",
              "2  1874-03-07  Scotland   England  ...  Glasgow  Scotland   False\n",
              "3  1875-03-06   England  Scotland  ...   London   England   False\n",
              "4  1876-03-04  Scotland   England  ...  Glasgow  Scotland   False\n",
              "\n",
              "[5 rows x 9 columns]"
            ]
          },
          "metadata": {
            "tags": []
          },
          "execution_count": 3
        }
      ]
    },
    {
      "cell_type": "code",
      "metadata": {
        "id": "EjkmIwxRwB7Y",
        "colab_type": "code",
        "outputId": "991c0304-6bf6-4646-a5be-7b30a048d915",
        "colab": {
          "base_uri": "https://localhost:8080/",
          "height": 187
        }
      },
      "source": [
        "# check for NaN values\n",
        "\n",
        "df.isna().sum()"
      ],
      "execution_count": 4,
      "outputs": [
        {
          "output_type": "execute_result",
          "data": {
            "text/plain": [
              "date          0\n",
              "home_team     0\n",
              "away_team     0\n",
              "home_score    0\n",
              "away_score    0\n",
              "tournament    0\n",
              "city          0\n",
              "country       0\n",
              "neutral       0\n",
              "dtype: int64"
            ]
          },
          "metadata": {
            "tags": []
          },
          "execution_count": 4
        }
      ]
    },
    {
      "cell_type": "code",
      "metadata": {
        "id": "P6vhTkPxuQoU",
        "colab_type": "code",
        "outputId": "1d1e0ba5-a422-4a10-8c41-a5b2c81fbfb3",
        "colab": {
          "base_uri": "https://localhost:8080/",
          "height": 187
        }
      },
      "source": [
        "df.dtypes"
      ],
      "execution_count": 5,
      "outputs": [
        {
          "output_type": "execute_result",
          "data": {
            "text/plain": [
              "date          object\n",
              "home_team     object\n",
              "away_team     object\n",
              "home_score     int64\n",
              "away_score     int64\n",
              "tournament    object\n",
              "city          object\n",
              "country       object\n",
              "neutral         bool\n",
              "dtype: object"
            ]
          },
          "metadata": {
            "tags": []
          },
          "execution_count": 5
        }
      ]
    },
    {
      "cell_type": "code",
      "metadata": {
        "id": "cndwK4FnuSOo",
        "colab_type": "code",
        "outputId": "a80c701e-1c70-4a78-f340-b57dcb0efb19",
        "colab": {
          "base_uri": "https://localhost:8080/",
          "height": 204
        }
      },
      "source": [
        "# format the date column into pandas datetime\n",
        "\n",
        "df['date'] = pd.to_datetime(df['date'], infer_datetime_format=True)\n",
        "\n",
        "df.head()"
      ],
      "execution_count": 6,
      "outputs": [
        {
          "output_type": "execute_result",
          "data": {
            "text/html": [
              "<div>\n",
              "<style scoped>\n",
              "    .dataframe tbody tr th:only-of-type {\n",
              "        vertical-align: middle;\n",
              "    }\n",
              "\n",
              "    .dataframe tbody tr th {\n",
              "        vertical-align: top;\n",
              "    }\n",
              "\n",
              "    .dataframe thead th {\n",
              "        text-align: right;\n",
              "    }\n",
              "</style>\n",
              "<table border=\"1\" class=\"dataframe\">\n",
              "  <thead>\n",
              "    <tr style=\"text-align: right;\">\n",
              "      <th></th>\n",
              "      <th>date</th>\n",
              "      <th>home_team</th>\n",
              "      <th>away_team</th>\n",
              "      <th>home_score</th>\n",
              "      <th>away_score</th>\n",
              "      <th>tournament</th>\n",
              "      <th>city</th>\n",
              "      <th>country</th>\n",
              "      <th>neutral</th>\n",
              "    </tr>\n",
              "  </thead>\n",
              "  <tbody>\n",
              "    <tr>\n",
              "      <th>0</th>\n",
              "      <td>1872-11-30</td>\n",
              "      <td>Scotland</td>\n",
              "      <td>England</td>\n",
              "      <td>0</td>\n",
              "      <td>0</td>\n",
              "      <td>Friendly</td>\n",
              "      <td>Glasgow</td>\n",
              "      <td>Scotland</td>\n",
              "      <td>False</td>\n",
              "    </tr>\n",
              "    <tr>\n",
              "      <th>1</th>\n",
              "      <td>1873-03-08</td>\n",
              "      <td>England</td>\n",
              "      <td>Scotland</td>\n",
              "      <td>4</td>\n",
              "      <td>2</td>\n",
              "      <td>Friendly</td>\n",
              "      <td>London</td>\n",
              "      <td>England</td>\n",
              "      <td>False</td>\n",
              "    </tr>\n",
              "    <tr>\n",
              "      <th>2</th>\n",
              "      <td>1874-03-07</td>\n",
              "      <td>Scotland</td>\n",
              "      <td>England</td>\n",
              "      <td>2</td>\n",
              "      <td>1</td>\n",
              "      <td>Friendly</td>\n",
              "      <td>Glasgow</td>\n",
              "      <td>Scotland</td>\n",
              "      <td>False</td>\n",
              "    </tr>\n",
              "    <tr>\n",
              "      <th>3</th>\n",
              "      <td>1875-03-06</td>\n",
              "      <td>England</td>\n",
              "      <td>Scotland</td>\n",
              "      <td>2</td>\n",
              "      <td>2</td>\n",
              "      <td>Friendly</td>\n",
              "      <td>London</td>\n",
              "      <td>England</td>\n",
              "      <td>False</td>\n",
              "    </tr>\n",
              "    <tr>\n",
              "      <th>4</th>\n",
              "      <td>1876-03-04</td>\n",
              "      <td>Scotland</td>\n",
              "      <td>England</td>\n",
              "      <td>3</td>\n",
              "      <td>0</td>\n",
              "      <td>Friendly</td>\n",
              "      <td>Glasgow</td>\n",
              "      <td>Scotland</td>\n",
              "      <td>False</td>\n",
              "    </tr>\n",
              "  </tbody>\n",
              "</table>\n",
              "</div>"
            ],
            "text/plain": [
              "        date home_team away_team  ...     city   country neutral\n",
              "0 1872-11-30  Scotland   England  ...  Glasgow  Scotland   False\n",
              "1 1873-03-08   England  Scotland  ...   London   England   False\n",
              "2 1874-03-07  Scotland   England  ...  Glasgow  Scotland   False\n",
              "3 1875-03-06   England  Scotland  ...   London   England   False\n",
              "4 1876-03-04  Scotland   England  ...  Glasgow  Scotland   False\n",
              "\n",
              "[5 rows x 9 columns]"
            ]
          },
          "metadata": {
            "tags": []
          },
          "execution_count": 6
        }
      ]
    },
    {
      "cell_type": "code",
      "metadata": {
        "id": "5TP3wpAsxhMq",
        "colab_type": "code",
        "colab": {
          "base_uri": "https://localhost:8080/",
          "height": 119
        },
        "outputId": "415cd240-13d5-4208-ec02-78c7c8162cf2"
      },
      "source": [
        "# make 2 new dataframes for neutral and non-neutral matches\n",
        "\n",
        "neutral_1 = df[df['neutral'] == True]\n",
        "neutral_0 = df[df['neutral'] == False]\n",
        "\n",
        "# make 2 new dataframes for non-neutral US matches at home and away\n",
        "\n",
        "home = neutral_0[neutral_0['home_team'] == \"United States\"]\n",
        "away = neutral_0[neutral_0['away_team'] == \"United States\"]\n",
        "\n",
        "# find all neutral US matches\n",
        "\n",
        "neutral1 = neutral_1[neutral_1['home_team'] == \"United States\"]\n",
        "neutral2 = neutral_1[neutral_1['away_team'] == 'United States']\n",
        "\n",
        "# get the US to be in the home_team for simplicity\n",
        "\n",
        "neutral2[['away_team', 'home_team']] = neutral2.loc[:, ['home_team', 'away_team']]\n",
        "                       \n",
        "# concat all US neutral matches into one dataframe\n",
        "\n",
        "neutral = pd.concat([neutral1, neutral2])"
      ],
      "execution_count": 7,
      "outputs": [
        {
          "output_type": "stream",
          "text": [
            "/usr/local/lib/python3.6/dist-packages/pandas/core/frame.py:3391: SettingWithCopyWarning: \n",
            "A value is trying to be set on a copy of a slice from a DataFrame.\n",
            "Try using .loc[row_indexer,col_indexer] = value instead\n",
            "\n",
            "See the caveats in the documentation: http://pandas.pydata.org/pandas-docs/stable/indexing.html#indexing-view-versus-copy\n",
            "  self[k1] = value[k2]\n"
          ],
          "name": "stderr"
        }
      ]
    },
    {
      "cell_type": "code",
      "metadata": {
        "id": "cSOr9JqS3tpb",
        "colab_type": "code",
        "colab": {
          "base_uri": "https://localhost:8080/",
          "height": 136
        },
        "outputId": "3ecc69e7-2a4c-43ce-e78c-c8094fab2882"
      },
      "source": [
        "# define function to get total number of matches and number of matches won, lost and tied.\n",
        "\n",
        "def lostwontied(data):\n",
        "  print(\"Total: \" + str(data.index.size))\n",
        "  print(\"\\nWon: \" + str(data[data['home_score'] > data['away_score']].index.size))\n",
        "  print(\"\\nLost: \" + str(data[data['home_score'] < data['away_score']].index.size))\n",
        "  print(\"\\nTied: \" + str(data[data['home_score'] == data['away_score']].index.size))\n",
        "  return \n",
        "  \n",
        "lostwontied(home)"
      ],
      "execution_count": 8,
      "outputs": [
        {
          "output_type": "stream",
          "text": [
            "Total: 391\n",
            "\n",
            "Won: 210\n",
            "\n",
            "Lost: 92\n",
            "\n",
            "Tied: 89\n"
          ],
          "name": "stdout"
        }
      ]
    },
    {
      "cell_type": "code",
      "metadata": {
        "id": "pGI58M6u5fWR",
        "colab_type": "code",
        "colab": {
          "base_uri": "https://localhost:8080/",
          "height": 136
        },
        "outputId": "9b70806d-56a6-4f2c-c632-888345b54a54"
      },
      "source": [
        "lostwontied(away)"
      ],
      "execution_count": 9,
      "outputs": [
        {
          "output_type": "stream",
          "text": [
            "Total: 219\n",
            "\n",
            "Won: 118\n",
            "\n",
            "Lost: 59\n",
            "\n",
            "Tied: 42\n"
          ],
          "name": "stdout"
        }
      ]
    },
    {
      "cell_type": "code",
      "metadata": {
        "id": "SPqzygWZ3ooo",
        "colab_type": "code",
        "colab": {
          "base_uri": "https://localhost:8080/",
          "height": 136
        },
        "outputId": "6243a87f-6d49-458f-e95a-0d480d298122"
      },
      "source": [
        "lostwontied(neutral)"
      ],
      "execution_count": 10,
      "outputs": [
        {
          "output_type": "stream",
          "text": [
            "Total: 70\n",
            "\n",
            "Won: 31\n",
            "\n",
            "Lost: 27\n",
            "\n",
            "Tied: 12\n"
          ],
          "name": "stdout"
        }
      ]
    },
    {
      "cell_type": "code",
      "metadata": {
        "id": "yLI5720JvPcQ",
        "colab_type": "code",
        "outputId": "4defe329-894d-4538-d589-dd8962437d42",
        "colab": {
          "base_uri": "https://localhost:8080/",
          "height": 142
        }
      },
      "source": [
        "# initialize list of lists \n",
        "data1 = [['Neutral', 70, 27, 31+27], ['Away', 219, 59, 118+59], ['Home', 391, 92, 210+92]] \n",
        "  \n",
        "# Create the pandas DataFrame \n",
        "df1 = pd.DataFrame(data1, columns = ['type', 'Total matches', 'Losses', 'Wins+losses'])\n",
        "\n",
        "# print dataframe. \n",
        "df1 "
      ],
      "execution_count": 11,
      "outputs": [
        {
          "output_type": "execute_result",
          "data": {
            "text/html": [
              "<div>\n",
              "<style scoped>\n",
              "    .dataframe tbody tr th:only-of-type {\n",
              "        vertical-align: middle;\n",
              "    }\n",
              "\n",
              "    .dataframe tbody tr th {\n",
              "        vertical-align: top;\n",
              "    }\n",
              "\n",
              "    .dataframe thead th {\n",
              "        text-align: right;\n",
              "    }\n",
              "</style>\n",
              "<table border=\"1\" class=\"dataframe\">\n",
              "  <thead>\n",
              "    <tr style=\"text-align: right;\">\n",
              "      <th></th>\n",
              "      <th>type</th>\n",
              "      <th>Total matches</th>\n",
              "      <th>Losses</th>\n",
              "      <th>Wins+losses</th>\n",
              "    </tr>\n",
              "  </thead>\n",
              "  <tbody>\n",
              "    <tr>\n",
              "      <th>0</th>\n",
              "      <td>Neutral</td>\n",
              "      <td>70</td>\n",
              "      <td>27</td>\n",
              "      <td>58</td>\n",
              "    </tr>\n",
              "    <tr>\n",
              "      <th>1</th>\n",
              "      <td>Away</td>\n",
              "      <td>219</td>\n",
              "      <td>59</td>\n",
              "      <td>177</td>\n",
              "    </tr>\n",
              "    <tr>\n",
              "      <th>2</th>\n",
              "      <td>Home</td>\n",
              "      <td>391</td>\n",
              "      <td>92</td>\n",
              "      <td>302</td>\n",
              "    </tr>\n",
              "  </tbody>\n",
              "</table>\n",
              "</div>"
            ],
            "text/plain": [
              "      type  Total matches  Losses  Wins+losses\n",
              "0  Neutral             70      27           58\n",
              "1     Away            219      59          177\n",
              "2     Home            391      92          302"
            ]
          },
          "metadata": {
            "tags": []
          },
          "execution_count": 11
        }
      ]
    },
    {
      "cell_type": "code",
      "metadata": {
        "id": "V8dz3bR5Bey_",
        "colab_type": "code",
        "outputId": "d40bd61f-83b4-4cad-908e-9b74632f2134",
        "colab": {
          "base_uri": "https://localhost:8080/",
          "height": 400
        }
      },
      "source": [
        "# graph number of matches won lost and tied\n",
        "\n",
        "import seaborn as sns\n",
        "import matplotlib.pyplot as plt\n",
        "sns.set(style=\"whitegrid\")\n",
        "\n",
        "# Initialize the matplotlib figure\n",
        "f, ax = plt.subplots(figsize=(10, 6))\n",
        "\n",
        "# Plot the total games which will end up representing the ties\n",
        "sns.set_color_codes(\"pastel\")\n",
        "sns.barplot(x=\"Total matches\", y=\"type\", data=df1,\n",
        "            label=\"Ties\", color=\"orange\")\n",
        "\n",
        "# Plot the win, which is actually wins+losses to show properly\n",
        "sns.set_color_codes(\"muted\")\n",
        "sns.barplot(x=\"Wins+losses\", y=\"type\", data=df1,\n",
        "            label=\"Wins\", color=\"g\")\n",
        "\n",
        "# Plot the losses\n",
        "sns.set_color_codes(\"muted\")\n",
        "sns.barplot(x=\"Losses\", y=\"type\", data=df1,\n",
        "            label=\"Losses\", color=\"r\")\n",
        "\n",
        "# Add a legend and informative axis label\n",
        "ax.legend(ncol=1, loc=\"upper right\", frameon=True)\n",
        "ax.set(xlim=(0, 420), ylabel=\"\",\n",
        "       xlabel=\"US International Soccer Matches since 1885\")\n",
        "sns.despine(left=True, bottom=True)"
      ],
      "execution_count": 12,
      "outputs": [
        {
          "output_type": "display_data",
          "data": {
            "image/png": "[encoded data removed]",
            "text/plain": [
              "<Figure size 720x432 with 1 Axes>"
            ]
          },
          "metadata": {
            "tags": []
          }
        }
      ]
    },
    {
      "cell_type": "code",
      "metadata": {
        "id": "Qzg_moPb2pqi",
        "colab_type": "code",
        "colab": {
          "base_uri": "https://localhost:8080/",
          "height": 173
        },
        "outputId": "05c98e10-2b34-40d8-9554-59010f8e4429"
      },
      "source": [
        "# initialize list of lists \n",
        "data2 = [['Neutral', 27, 31, 12], ['Away', 59, 118, 42], ['Home', 92, 210, 89]] \n",
        "  \n",
        "# Create the pandas DataFrame \n",
        "df2 = pd.DataFrame(data2, columns = ['type', 'Losses', 'Wins', 'Ties'])\n",
        "df2.set_index('type', inplace=True)\n",
        "\n",
        "# print dataframe. \n",
        "df2 "
      ],
      "execution_count": 13,
      "outputs": [
        {
          "output_type": "execute_result",
          "data": {
            "text/html": [
              "<div>\n",
              "<style scoped>\n",
              "    .dataframe tbody tr th:only-of-type {\n",
              "        vertical-align: middle;\n",
              "    }\n",
              "\n",
              "    .dataframe tbody tr th {\n",
              "        vertical-align: top;\n",
              "    }\n",
              "\n",
              "    .dataframe thead th {\n",
              "        text-align: right;\n",
              "    }\n",
              "</style>\n",
              "<table border=\"1\" class=\"dataframe\">\n",
              "  <thead>\n",
              "    <tr style=\"text-align: right;\">\n",
              "      <th></th>\n",
              "      <th>Losses</th>\n",
              "      <th>Wins</th>\n",
              "      <th>Ties</th>\n",
              "    </tr>\n",
              "    <tr>\n",
              "      <th>type</th>\n",
              "      <th></th>\n",
              "      <th></th>\n",
              "      <th></th>\n",
              "    </tr>\n",
              "  </thead>\n",
              "  <tbody>\n",
              "    <tr>\n",
              "      <th>Neutral</th>\n",
              "      <td>27</td>\n",
              "      <td>31</td>\n",
              "      <td>12</td>\n",
              "    </tr>\n",
              "    <tr>\n",
              "      <th>Away</th>\n",
              "      <td>59</td>\n",
              "      <td>118</td>\n",
              "      <td>42</td>\n",
              "    </tr>\n",
              "    <tr>\n",
              "      <th>Home</th>\n",
              "      <td>92</td>\n",
              "      <td>210</td>\n",
              "      <td>89</td>\n",
              "    </tr>\n",
              "  </tbody>\n",
              "</table>\n",
              "</div>"
            ],
            "text/plain": [
              "         Losses  Wins  Ties\n",
              "type                       \n",
              "Neutral      27    31    12\n",
              "Away         59   118    42\n",
              "Home         92   210    89"
            ]
          },
          "metadata": {
            "tags": []
          },
          "execution_count": 13
        }
      ]
    },
    {
      "cell_type": "code",
      "metadata": {
        "id": "qqlMYbGV2oHk",
        "colab_type": "code",
        "colab": {
          "base_uri": "https://localhost:8080/",
          "height": 142
        },
        "outputId": "1109a057-1da7-410f-c45c-fd77577ddd24"
      },
      "source": [
        "df2 = df2.div(df2.sum(axis=1), axis=0).reset_index()\n",
        "\n",
        "df2['loss+win'] = df2['Losses'] + df2['Wins']\n",
        "df2['total'] = 1\n",
        "\n",
        "df2"
      ],
      "execution_count": 14,
      "outputs": [
        {
          "output_type": "execute_result",
          "data": {
            "text/html": [
              "<div>\n",
              "<style scoped>\n",
              "    .dataframe tbody tr th:only-of-type {\n",
              "        vertical-align: middle;\n",
              "    }\n",
              "\n",
              "    .dataframe tbody tr th {\n",
              "        vertical-align: top;\n",
              "    }\n",
              "\n",
              "    .dataframe thead th {\n",
              "        text-align: right;\n",
              "    }\n",
              "</style>\n",
              "<table border=\"1\" class=\"dataframe\">\n",
              "  <thead>\n",
              "    <tr style=\"text-align: right;\">\n",
              "      <th></th>\n",
              "      <th>type</th>\n",
              "      <th>Losses</th>\n",
              "      <th>Wins</th>\n",
              "      <th>Ties</th>\n",
              "      <th>loss+win</th>\n",
              "      <th>total</th>\n",
              "    </tr>\n",
              "  </thead>\n",
              "  <tbody>\n",
              "    <tr>\n",
              "      <th>0</th>\n",
              "      <td>Neutral</td>\n",
              "      <td>0.385714</td>\n",
              "      <td>0.442857</td>\n",
              "      <td>0.171429</td>\n",
              "      <td>0.828571</td>\n",
              "      <td>1</td>\n",
              "    </tr>\n",
              "    <tr>\n",
              "      <th>1</th>\n",
              "      <td>Away</td>\n",
              "      <td>0.269406</td>\n",
              "      <td>0.538813</td>\n",
              "      <td>0.191781</td>\n",
              "      <td>0.808219</td>\n",
              "      <td>1</td>\n",
              "    </tr>\n",
              "    <tr>\n",
              "      <th>2</th>\n",
              "      <td>Home</td>\n",
              "      <td>0.235294</td>\n",
              "      <td>0.537084</td>\n",
              "      <td>0.227621</td>\n",
              "      <td>0.772379</td>\n",
              "      <td>1</td>\n",
              "    </tr>\n",
              "  </tbody>\n",
              "</table>\n",
              "</div>"
            ],
            "text/plain": [
              "      type    Losses      Wins      Ties  loss+win  total\n",
              "0  Neutral  0.385714  0.442857  0.171429  0.828571      1\n",
              "1     Away  0.269406  0.538813  0.191781  0.808219      1\n",
              "2     Home  0.235294  0.537084  0.227621  0.772379      1"
            ]
          },
          "metadata": {
            "tags": []
          },
          "execution_count": 14
        }
      ]
    },
    {
      "cell_type": "code",
      "metadata": {
        "id": "N25pgf6Kv2qe",
        "colab_type": "code",
        "colab": {
          "base_uri": "https://localhost:8080/",
          "height": 400
        },
        "outputId": "6d4174ea-e5bb-4b47-edd9-5b8ca4203735"
      },
      "source": [
        "# normalized win loss ties\n",
        "\n",
        "# Initialize the matplotlib figure\n",
        "f, ax = plt.subplots(figsize=(10, 6))\n",
        "\n",
        "# Plot the total games which will end up representing the ties\n",
        "sns.set_color_codes(\"pastel\")\n",
        "sns.barplot(x=\"total\", y=\"type\", data=df2,\n",
        "            label=\"Ties\", color=\"orange\").set(xticklabels=[0, 20, 40, 60, 80, '100%'])\n",
        "\n",
        "# Plot the win, which is actually wins+losses to show properly\n",
        "sns.set_color_codes(\"muted\")\n",
        "sns.barplot(x=\"loss+win\", y=\"type\", data=df2,\n",
        "            label=\"Wins\", color=\"g\")\n",
        "\n",
        "# Plot the losses\n",
        "sns.set_color_codes(\"muted\")\n",
        "sns.barplot(x=\"Losses\", y=\"type\", data=df2,\n",
        "            label=\"Losses\", color=\"r\")\n",
        "\n",
        "# Add a legend and informative axis label\n",
        "ax.legend(ncol=1, loc=\"upper right\", frameon=True)\n",
        "ax.set(xlim=(0, 1), ylabel=\"\",\n",
        "       xlabel=\"US International Soccer Matches Since 1885\")\n",
        "sns.despine(left=True, bottom=True)"
      ],
      "execution_count": 15,
      "outputs": [
        {
          "output_type": "display_data",
          "data": {
            "image/png": "[encoded data removed]",
            "text/plain": [
              "<Figure size 720x432 with 1 Axes>"
            ]
          },
          "metadata": {
            "tags": []
          }
        }
      ]
    },
    {
      "cell_type": "code",
      "metadata": {
        "id": "rShMitCpSK57",
        "colab_type": "code",
        "colab": {
          "base_uri": "https://localhost:8080/",
          "height": 204
        },
        "outputId": "9b81a57b-73d6-486e-ad73-bfc1320b5bc6"
      },
      "source": [
        "# make new column and combine city and country\n",
        "\n",
        "df['Location'] = df['city'].map(str) + ', ' + df['country']\n",
        "\n",
        "df.head()"
      ],
      "execution_count": 16,
      "outputs": [
        {
          "output_type": "execute_result",
          "data": {
            "text/html": [
              "<div>\n",
              "<style scoped>\n",
              "    .dataframe tbody tr th:only-of-type {\n",
              "        vertical-align: middle;\n",
              "    }\n",
              "\n",
              "    .dataframe tbody tr th {\n",
              "        vertical-align: top;\n",
              "    }\n",
              "\n",
              "    .dataframe thead th {\n",
              "        text-align: right;\n",
              "    }\n",
              "</style>\n",
              "<table border=\"1\" class=\"dataframe\">\n",
              "  <thead>\n",
              "    <tr style=\"text-align: right;\">\n",
              "      <th></th>\n",
              "      <th>date</th>\n",
              "      <th>home_team</th>\n",
              "      <th>away_team</th>\n",
              "      <th>home_score</th>\n",
              "      <th>away_score</th>\n",
              "      <th>tournament</th>\n",
              "      <th>city</th>\n",
              "      <th>country</th>\n",
              "      <th>neutral</th>\n",
              "      <th>Location</th>\n",
              "    </tr>\n",
              "  </thead>\n",
              "  <tbody>\n",
              "    <tr>\n",
              "      <th>0</th>\n",
              "      <td>1872-11-30</td>\n",
              "      <td>Scotland</td>\n",
              "      <td>England</td>\n",
              "      <td>0</td>\n",
              "      <td>0</td>\n",
              "      <td>Friendly</td>\n",
              "      <td>Glasgow</td>\n",
              "      <td>Scotland</td>\n",
              "      <td>False</td>\n",
              "      <td>Glasgow, Scotland</td>\n",
              "    </tr>\n",
              "    <tr>\n",
              "      <th>1</th>\n",
              "      <td>1873-03-08</td>\n",
              "      <td>England</td>\n",
              "      <td>Scotland</td>\n",
              "      <td>4</td>\n",
              "      <td>2</td>\n",
              "      <td>Friendly</td>\n",
              "      <td>London</td>\n",
              "      <td>England</td>\n",
              "      <td>False</td>\n",
              "      <td>London, England</td>\n",
              "    </tr>\n",
              "    <tr>\n",
              "      <th>2</th>\n",
              "      <td>1874-03-07</td>\n",
              "      <td>Scotland</td>\n",
              "      <td>England</td>\n",
              "      <td>2</td>\n",
              "      <td>1</td>\n",
              "      <td>Friendly</td>\n",
              "      <td>Glasgow</td>\n",
              "      <td>Scotland</td>\n",
              "      <td>False</td>\n",
              "      <td>Glasgow, Scotland</td>\n",
              "    </tr>\n",
              "    <tr>\n",
              "      <th>3</th>\n",
              "      <td>1875-03-06</td>\n",
              "      <td>England</td>\n",
              "      <td>Scotland</td>\n",
              "      <td>2</td>\n",
              "      <td>2</td>\n",
              "      <td>Friendly</td>\n",
              "      <td>London</td>\n",
              "      <td>England</td>\n",
              "      <td>False</td>\n",
              "      <td>London, England</td>\n",
              "    </tr>\n",
              "    <tr>\n",
              "      <th>4</th>\n",
              "      <td>1876-03-04</td>\n",
              "      <td>Scotland</td>\n",
              "      <td>England</td>\n",
              "      <td>3</td>\n",
              "      <td>0</td>\n",
              "      <td>Friendly</td>\n",
              "      <td>Glasgow</td>\n",
              "      <td>Scotland</td>\n",
              "      <td>False</td>\n",
              "      <td>Glasgow, Scotland</td>\n",
              "    </tr>\n",
              "  </tbody>\n",
              "</table>\n",
              "</div>"
            ],
            "text/plain": [
              "        date home_team away_team  ...   country  neutral           Location\n",
              "0 1872-11-30  Scotland   England  ...  Scotland    False  Glasgow, Scotland\n",
              "1 1873-03-08   England  Scotland  ...   England    False    London, England\n",
              "2 1874-03-07  Scotland   England  ...  Scotland    False  Glasgow, Scotland\n",
              "3 1875-03-06   England  Scotland  ...   England    False    London, England\n",
              "4 1876-03-04  Scotland   England  ...  Scotland    False  Glasgow, Scotland\n",
              "\n",
              "[5 rows x 10 columns]"
            ]
          },
          "metadata": {
            "tags": []
          },
          "execution_count": 16
        }
      ]
    },
    {
      "cell_type": "code",
      "metadata": {
        "id": "S7WytNvL1d3C",
        "colab_type": "code",
        "colab": {}
      },
      "source": [
        "home = pd.read_csv('home.csv')\n",
        "away = pd.read_csv('away.csv')\n",
        "neutral = pd.read_csv('neutral.csv')"
      ],
      "execution_count": 0,
      "outputs": []
    },
    {
      "cell_type": "code",
      "metadata": {
        "id": "t4iWB4a-Grlz",
        "colab_type": "code",
        "colab": {}
      },
      "source": [
        "# define function to get longitude and latitude of location using Nominatim from geopy\n",
        "\n",
        "def geopycode(data):\n",
        "  from geopy.geocoders import Nominatim\n",
        "  from geopy.extra.rate_limiter import RateLimiter\n",
        "  from tqdm import tqdm\n",
        "  \n",
        "# Nominatim has an absolute limit of 1 request per second\n",
        "  geocode = RateLimiter(geolocator.geocode, min_delay_seconds=1)\n",
        "  tqdm.pandas()\n",
        "  \n",
        "  data['Location'] = data['Location'].progress_apply(geocode)\n",
        "  data['Coord'] = data['Location'].apply(lambda loc: tuple(loc.point) if loc else None)\n",
        "  \n",
        "  return"
      ],
      "execution_count": 0,
      "outputs": []
    },
    {
      "cell_type": "code",
      "metadata": {
        "id": "6VziuYsEFVn2",
        "colab_type": "code",
        "colab": {
          "base_uri": "https://localhost:8080/",
          "height": 323
        },
        "outputId": "956209e5-2b57-4783-ecf8-ac5d9a597bbd"
      },
      "source": [
        "usa = pd.concat([home, away, neutral], sort=False)\n",
        "print(usa.shape)\n",
        "usa.head()"
      ],
      "execution_count": 19,
      "outputs": [
        {
          "output_type": "stream",
          "text": [
            "(680, 13)\n"
          ],
          "name": "stdout"
        },
        {
          "output_type": "execute_result",
          "data": {
            "text/html": [
              "<div>\n",
              "<style scoped>\n",
              "    .dataframe tbody tr th:only-of-type {\n",
              "        vertical-align: middle;\n",
              "    }\n",
              "\n",
              "    .dataframe tbody tr th {\n",
              "        vertical-align: top;\n",
              "    }\n",
              "\n",
              "    .dataframe thead th {\n",
              "        text-align: right;\n",
              "    }\n",
              "</style>\n",
              "<table border=\"1\" class=\"dataframe\">\n",
              "  <thead>\n",
              "    <tr style=\"text-align: right;\">\n",
              "      <th></th>\n",
              "      <th>Unnamed: 0</th>\n",
              "      <th>date</th>\n",
              "      <th>home_team</th>\n",
              "      <th>away_team</th>\n",
              "      <th>home_score</th>\n",
              "      <th>away_score</th>\n",
              "      <th>tournament</th>\n",
              "      <th>city</th>\n",
              "      <th>country</th>\n",
              "      <th>neutral</th>\n",
              "      <th>Location</th>\n",
              "      <th>Coord</th>\n",
              "      <th>geocode</th>\n",
              "    </tr>\n",
              "  </thead>\n",
              "  <tbody>\n",
              "    <tr>\n",
              "      <th>0</th>\n",
              "      <td>41</td>\n",
              "      <td>1885-11-28</td>\n",
              "      <td>United States</td>\n",
              "      <td>Canada</td>\n",
              "      <td>0</td>\n",
              "      <td>1</td>\n",
              "      <td>Friendly</td>\n",
              "      <td>Newark</td>\n",
              "      <td>United States</td>\n",
              "      <td>False</td>\n",
              "      <td>Newark, Essex County, New Jersey, USA</td>\n",
              "      <td>(40.735657, -74.1723667, 0.0)</td>\n",
              "      <td>NaN</td>\n",
              "    </tr>\n",
              "    <tr>\n",
              "      <th>1</th>\n",
              "      <td>48</td>\n",
              "      <td>1886-11-25</td>\n",
              "      <td>United States</td>\n",
              "      <td>Canada</td>\n",
              "      <td>3</td>\n",
              "      <td>2</td>\n",
              "      <td>Friendly</td>\n",
              "      <td>Newark</td>\n",
              "      <td>United States</td>\n",
              "      <td>False</td>\n",
              "      <td>Newark, Essex County, New Jersey, USA</td>\n",
              "      <td>(40.735657, -74.1723667, 0.0)</td>\n",
              "      <td>NaN</td>\n",
              "    </tr>\n",
              "    <tr>\n",
              "      <th>2</th>\n",
              "      <td>924</td>\n",
              "      <td>1925-11-08</td>\n",
              "      <td>United States</td>\n",
              "      <td>Canada</td>\n",
              "      <td>6</td>\n",
              "      <td>1</td>\n",
              "      <td>Friendly</td>\n",
              "      <td>New York</td>\n",
              "      <td>United States</td>\n",
              "      <td>False</td>\n",
              "      <td>NYC, New York, United States of America</td>\n",
              "      <td>(40.7127281, -74.0060152, 0.0)</td>\n",
              "      <td>NaN</td>\n",
              "    </tr>\n",
              "    <tr>\n",
              "      <th>3</th>\n",
              "      <td>1011</td>\n",
              "      <td>1926-11-06</td>\n",
              "      <td>United States</td>\n",
              "      <td>Canada</td>\n",
              "      <td>6</td>\n",
              "      <td>2</td>\n",
              "      <td>Friendly</td>\n",
              "      <td>New York</td>\n",
              "      <td>United States</td>\n",
              "      <td>False</td>\n",
              "      <td>NYC, New York, United States of America</td>\n",
              "      <td>(40.7127281, -74.0060152, 0.0)</td>\n",
              "      <td>NaN</td>\n",
              "    </tr>\n",
              "    <tr>\n",
              "      <th>4</th>\n",
              "      <td>1772</td>\n",
              "      <td>1935-05-19</td>\n",
              "      <td>United States</td>\n",
              "      <td>Scotland</td>\n",
              "      <td>1</td>\n",
              "      <td>5</td>\n",
              "      <td>Friendly</td>\n",
              "      <td>New York</td>\n",
              "      <td>United States</td>\n",
              "      <td>False</td>\n",
              "      <td>NYC, New York, United States of America</td>\n",
              "      <td>(40.7127281, -74.0060152, 0.0)</td>\n",
              "      <td>NaN</td>\n",
              "    </tr>\n",
              "  </tbody>\n",
              "</table>\n",
              "</div>"
            ],
            "text/plain": [
              "   Unnamed: 0        date  ...                           Coord geocode\n",
              "0          41  1885-11-28  ...   (40.735657, -74.1723667, 0.0)     NaN\n",
              "1          48  1886-11-25  ...   (40.735657, -74.1723667, 0.0)     NaN\n",
              "2         924  1925-11-08  ...  (40.7127281, -74.0060152, 0.0)     NaN\n",
              "3        1011  1926-11-06  ...  (40.7127281, -74.0060152, 0.0)     NaN\n",
              "4        1772  1935-05-19  ...  (40.7127281, -74.0060152, 0.0)     NaN\n",
              "\n",
              "[5 rows x 13 columns]"
            ]
          },
          "metadata": {
            "tags": []
          },
          "execution_count": 19
        }
      ]
    },
    {
      "cell_type": "code",
      "metadata": {
        "id": "j4ZugCqO3EOb",
        "colab_type": "code",
        "colab": {}
      },
      "source": [
        "usa = usa.drop(['Unnamed: 0', 'geocode'], axis=1)"
      ],
      "execution_count": 0,
      "outputs": []
    },
    {
      "cell_type": "code",
      "metadata": {
        "id": "OEQiHNnJ38gm",
        "colab_type": "code",
        "colab": {}
      },
      "source": [
        "# strip parenthesis from Coord column\n",
        "\n",
        "usa['Coord'] = usa['Coord'].str.strip(\"\\(\\)\")"
      ],
      "execution_count": 0,
      "outputs": []
    },
    {
      "cell_type": "code",
      "metadata": {
        "id": "vuX8vpll58J0",
        "colab_type": "code",
        "colab": {}
      },
      "source": [
        "# splitting our new Coord column so we can have latitude and longitude in\n",
        "# their own columns\n",
        "\n",
        "def rowsplit(data):\n",
        "  import numpy as np\n",
        "\n",
        "  lat = []\n",
        "  long = []\n",
        "\n",
        "  for row in data['Coord']:\n",
        "      try:\n",
        "          lat.append(row.split(',')[0])\n",
        "          long.append(row.split(',')[1])\n",
        "      except:\n",
        "          lat.append(np.NaN)\n",
        "          long.append(np.NaN)\n",
        "\n",
        "  data['lat'] = lat\n",
        "  data['long'] = long\n",
        "  \n",
        "rowsplit(usa)"
      ],
      "execution_count": 0,
      "outputs": []
    },
    {
      "cell_type": "code",
      "metadata": {
        "id": "0BF5CKEO74lV",
        "colab_type": "code",
        "colab": {}
      },
      "source": [
        "# convert lat, long type to float\n",
        "\n",
        "usa['lat'] = usa['lat'].astype(float)\n",
        "usa['long'] = usa['long'].astype(float)"
      ],
      "execution_count": 0,
      "outputs": []
    },
    {
      "cell_type": "code",
      "metadata": {
        "id": "sG_YNAD1od3l",
        "colab_type": "code",
        "colab": {}
      },
      "source": [
        "#making a copy to save in locally so I don't have to run Nominatim() again\n",
        "usa.to_csv('usasoccer.csv')"
      ],
      "execution_count": 0,
      "outputs": []
    },
    {
      "cell_type": "code",
      "metadata": {
        "id": "Qut479sHKA8t",
        "colab_type": "code",
        "colab": {
          "base_uri": "https://localhost:8080/",
          "height": 34
        },
        "outputId": "a79dcbe1-04c4-4b21-c77c-6e1284553c45"
      },
      "source": [
        "# gonna color scattergeo plot using the tournament\n",
        "\n",
        "usa['tournament'].nunique()"
      ],
      "execution_count": 32,
      "outputs": [
        {
          "output_type": "execute_result",
          "data": {
            "text/plain": [
              "11"
            ]
          },
          "metadata": {
            "tags": []
          },
          "execution_count": 32
        }
      ]
    },
    {
      "cell_type": "code",
      "metadata": {
        "id": "rHPiskPfMEsY",
        "colab_type": "code",
        "colab": {}
      },
      "source": [
        "# making a dictionary to make a new column for tournament_id\n",
        "\n",
        "tournament_id = {'Friendly': 1, 'FIFA World Cup qualification': 2, 'NAFU Championship': 3,\n",
        "       'Gold Cup': 4, 'USA Cup': 5, 'FIFA World Cup': 6, 'Copa América': 7,\n",
        "       'Korea Cup': 8, 'Confederations Cup': 9, 'Kirin Cup': 10,\n",
        "       'Lunar New Year Cup': 11}\n",
        "\n",
        "usa['tournament_id'] = usa['tournament'].map(tournament_id)"
      ],
      "execution_count": 0,
      "outputs": []
    },
    {
      "cell_type": "code",
      "metadata": {
        "id": "G1-iN6UQ60p0",
        "colab_type": "code",
        "colab": {
          "base_uri": "https://localhost:8080/",
          "height": 68
        },
        "outputId": "6d7d6ace-6e9e-450d-842c-9d1fafe2b71c"
      },
      "source": [
        "# upgrading plotly to newest version. \n",
        "\n",
        "!pip install plotly==4.1.0"
      ],
      "execution_count": 28,
      "outputs": [
        {
          "output_type": "stream",
          "text": [
            "Requirement already satisfied: plotly==4.1.0 in /usr/local/lib/python3.6/dist-packages (4.1.0)\n",
            "Requirement already satisfied: retrying>=1.3.3 in /usr/local/lib/python3.6/dist-packages (from plotly==4.1.0) (1.3.3)\n",
            "Requirement already satisfied: six in /usr/local/lib/python3.6/dist-packages (from plotly==4.1.0) (1.12.0)\n"
          ],
          "name": "stdout"
        }
      ]
    },
    {
      "cell_type": "code",
      "metadata": {
        "id": "JnH-zarvQ_oo",
        "colab_type": "code",
        "colab": {
          "base_uri": "https://localhost:8080/",
          "height": 279
        },
        "outputId": "346ff0a6-b154-42f3-f7a6-0346e1f0e6e2"
      },
      "source": [
        "# choosing colorscale for discrete data, I have 11 unique tournaments\n",
        "\n",
        "import colorlover as cl\n",
        "from IPython.display import HTML\n",
        "HTML(cl.to_html(cl.scales['11']))"
      ],
      "execution_count": 29,
      "outputs": [
        {
          "output_type": "execute_result",
          "data": {
            "text/html": [
              "<h4>Diverging</h4><div style=\"display:inline-block;padding:10px;\"><div>BrBG</div><div style=\"background-color:rgb(84,48,5);height:20px;width:20px;margin-bottom:0px;display:inline-block;\"></div><div style=\"background-color:rgb(140,81,10);height:20px;width:20px;margin-bottom:0px;display:inline-block;\"></div><div style=\"background-color:rgb(191,129,45);height:20px;width:20px;margin-bottom:0px;display:inline-block;\"></div><div style=\"background-color:rgb(223,194,125);height:20px;width:20px;margin-bottom:0px;display:inline-block;\"></div><div style=\"background-color:rgb(246,232,195);height:20px;width:20px;margin-bottom:0px;display:inline-block;\"></div><div style=\"background-color:rgb(245,245,245);height:20px;width:20px;margin-bottom:0px;display:inline-block;\"></div><div style=\"background-color:rgb(199,234,229);height:20px;width:20px;margin-bottom:0px;display:inline-block;\"></div><div style=\"background-color:rgb(128,205,193);height:20px;width:20px;margin-bottom:0px;display:inline-block;\"></div><div style=\"background-color:rgb(53,151,143);height:20px;width:20px;margin-bottom:0px;display:inline-block;\"></div><div style=\"background-color:rgb(1,102,94);height:20px;width:20px;margin-bottom:0px;display:inline-block;\"></div><div style=\"background-color:rgb(0,60,48);height:20px;width:20px;margin-bottom:0px;display:inline-block;\"></div></div><div style=\"display:inline-block;padding:10px;\"><div>PRGn</div><div style=\"background-color:rgb(64,0,75);height:20px;width:20px;margin-bottom:0px;display:inline-block;\"></div><div style=\"background-color:rgb(118,42,131);height:20px;width:20px;margin-bottom:0px;display:inline-block;\"></div><div style=\"background-color:rgb(153,112,171);height:20px;width:20px;margin-bottom:0px;display:inline-block;\"></div><div style=\"background-color:rgb(194,165,207);height:20px;width:20px;margin-bottom:0px;display:inline-block;\"></div><div style=\"background-color:rgb(231,212,232);height:20px;width:20px;margin-bottom:0px;display:inline-block;\"></div><div style=\"background-color:rgb(247,247,247);height:20px;width:20px;margin-bottom:0px;display:inline-block;\"></div><div style=\"background-color:rgb(217,240,211);height:20px;width:20px;margin-bottom:0px;display:inline-block;\"></div><div style=\"background-color:rgb(166,219,160);height:20px;width:20px;margin-bottom:0px;display:inline-block;\"></div><div style=\"background-color:rgb(90,174,97);height:20px;width:20px;margin-bottom:0px;display:inline-block;\"></div><div style=\"background-color:rgb(27,120,55);height:20px;width:20px;margin-bottom:0px;display:inline-block;\"></div><div style=\"background-color:rgb(0,68,27);height:20px;width:20px;margin-bottom:0px;display:inline-block;\"></div></div><div style=\"display:inline-block;padding:10px;\"><div>PiYG</div><div style=\"background-color:rgb(142,1,82);height:20px;width:20px;margin-bottom:0px;display:inline-block;\"></div><div style=\"background-color:rgb(197,27,125);height:20px;width:20px;margin-bottom:0px;display:inline-block;\"></div><div style=\"background-color:rgb(222,119,174);height:20px;width:20px;margin-bottom:0px;display:inline-block;\"></div><div style=\"background-color:rgb(241,182,218);height:20px;width:20px;margin-bottom:0px;display:inline-block;\"></div><div style=\"background-color:rgb(253,224,239);height:20px;width:20px;margin-bottom:0px;display:inline-block;\"></div><div style=\"background-color:rgb(247,247,247);height:20px;width:20px;margin-bottom:0px;display:inline-block;\"></div><div style=\"background-color:rgb(230,245,208);height:20px;width:20px;margin-bottom:0px;display:inline-block;\"></div><div style=\"background-color:rgb(184,225,134);height:20px;width:20px;margin-bottom:0px;display:inline-block;\"></div><div style=\"background-color:rgb(127,188,65);height:20px;width:20px;margin-bottom:0px;display:inline-block;\"></div><div style=\"background-color:rgb(77,146,33);height:20px;width:20px;margin-bottom:0px;display:inline-block;\"></div><div style=\"background-color:rgb(39,100,25);height:20px;width:20px;margin-bottom:0px;display:inline-block;\"></div></div><div style=\"display:inline-block;padding:10px;\"><div>PuOr</div><div style=\"background-color:rgb(127,59,8);height:20px;width:20px;margin-bottom:0px;display:inline-block;\"></div><div style=\"background-color:rgb(179,88,6);height:20px;width:20px;margin-bottom:0px;display:inline-block;\"></div><div style=\"background-color:rgb(224,130,20);height:20px;width:20px;margin-bottom:0px;display:inline-block;\"></div><div style=\"background-color:rgb(253,184,99);height:20px;width:20px;margin-bottom:0px;display:inline-block;\"></div><div style=\"background-color:rgb(254,224,182);height:20px;width:20px;margin-bottom:0px;display:inline-block;\"></div><div style=\"background-color:rgb(247,247,247);height:20px;width:20px;margin-bottom:0px;display:inline-block;\"></div><div style=\"background-color:rgb(216,218,235);height:20px;width:20px;margin-bottom:0px;display:inline-block;\"></div><div style=\"background-color:rgb(178,171,210);height:20px;width:20px;margin-bottom:0px;display:inline-block;\"></div><div style=\"background-color:rgb(128,115,172);height:20px;width:20px;margin-bottom:0px;display:inline-block;\"></div><div style=\"background-color:rgb(84,39,136);height:20px;width:20px;margin-bottom:0px;display:inline-block;\"></div><div style=\"background-color:rgb(45,0,75);height:20px;width:20px;margin-bottom:0px;display:inline-block;\"></div></div><div style=\"display:inline-block;padding:10px;\"><div>RdBu</div><div style=\"background-color:rgb(103,0,31);height:20px;width:20px;margin-bottom:0px;display:inline-block;\"></div><div style=\"background-color:rgb(178,24,43);height:20px;width:20px;margin-bottom:0px;display:inline-block;\"></div><div style=\"background-color:rgb(214,96,77);height:20px;width:20px;margin-bottom:0px;display:inline-block;\"></div><div style=\"background-color:rgb(244,165,130);height:20px;width:20px;margin-bottom:0px;display:inline-block;\"></div><div style=\"background-color:rgb(253,219,199);height:20px;width:20px;margin-bottom:0px;display:inline-block;\"></div><div style=\"background-color:rgb(247,247,247);height:20px;width:20px;margin-bottom:0px;display:inline-block;\"></div><div style=\"background-color:rgb(209,229,240);height:20px;width:20px;margin-bottom:0px;display:inline-block;\"></div><div style=\"background-color:rgb(146,197,222);height:20px;width:20px;margin-bottom:0px;display:inline-block;\"></div><div style=\"background-color:rgb(67,147,195);height:20px;width:20px;margin-bottom:0px;display:inline-block;\"></div><div style=\"background-color:rgb(33,102,172);height:20px;width:20px;margin-bottom:0px;display:inline-block;\"></div><div style=\"background-color:rgb(5,48,97);height:20px;width:20px;margin-bottom:0px;display:inline-block;\"></div></div><div style=\"display:inline-block;padding:10px;\"><div>RdGy</div><div style=\"background-color:rgb(103,0,31);height:20px;width:20px;margin-bottom:0px;display:inline-block;\"></div><div style=\"background-color:rgb(178,24,43);height:20px;width:20px;margin-bottom:0px;display:inline-block;\"></div><div style=\"background-color:rgb(214,96,77);height:20px;width:20px;margin-bottom:0px;display:inline-block;\"></div><div style=\"background-color:rgb(244,165,130);height:20px;width:20px;margin-bottom:0px;display:inline-block;\"></div><div style=\"background-color:rgb(253,219,199);height:20px;width:20px;margin-bottom:0px;display:inline-block;\"></div><div style=\"background-color:rgb(255,255,255);height:20px;width:20px;margin-bottom:0px;display:inline-block;\"></div><div style=\"background-color:rgb(224,224,224);height:20px;width:20px;margin-bottom:0px;display:inline-block;\"></div><div style=\"background-color:rgb(186,186,186);height:20px;width:20px;margin-bottom:0px;display:inline-block;\"></div><div style=\"background-color:rgb(135,135,135);height:20px;width:20px;margin-bottom:0px;display:inline-block;\"></div><div style=\"background-color:rgb(77,77,77);height:20px;width:20px;margin-bottom:0px;display:inline-block;\"></div><div style=\"background-color:rgb(26,26,26);height:20px;width:20px;margin-bottom:0px;display:inline-block;\"></div></div><div style=\"display:inline-block;padding:10px;\"><div>RdYlBu</div><div style=\"background-color:rgb(165,0,38);height:20px;width:20px;margin-bottom:0px;display:inline-block;\"></div><div style=\"background-color:rgb(215,48,39);height:20px;width:20px;margin-bottom:0px;display:inline-block;\"></div><div style=\"background-color:rgb(244,109,67);height:20px;width:20px;margin-bottom:0px;display:inline-block;\"></div><div style=\"background-color:rgb(253,174,97);height:20px;width:20px;margin-bottom:0px;display:inline-block;\"></div><div style=\"background-color:rgb(254,224,144);height:20px;width:20px;margin-bottom:0px;display:inline-block;\"></div><div style=\"background-color:rgb(255,255,191);height:20px;width:20px;margin-bottom:0px;display:inline-block;\"></div><div style=\"background-color:rgb(224,243,248);height:20px;width:20px;margin-bottom:0px;display:inline-block;\"></div><div style=\"background-color:rgb(171,217,233);height:20px;width:20px;margin-bottom:0px;display:inline-block;\"></div><div style=\"background-color:rgb(116,173,209);height:20px;width:20px;margin-bottom:0px;display:inline-block;\"></div><div style=\"background-color:rgb(69,117,180);height:20px;width:20px;margin-bottom:0px;display:inline-block;\"></div><div style=\"background-color:rgb(49,54,149);height:20px;width:20px;margin-bottom:0px;display:inline-block;\"></div></div><div style=\"display:inline-block;padding:10px;\"><div>RdYlGn</div><div style=\"background-color:rgb(165,0,38);height:20px;width:20px;margin-bottom:0px;display:inline-block;\"></div><div style=\"background-color:rgb(215,48,39);height:20px;width:20px;margin-bottom:0px;display:inline-block;\"></div><div style=\"background-color:rgb(244,109,67);height:20px;width:20px;margin-bottom:0px;display:inline-block;\"></div><div style=\"background-color:rgb(253,174,97);height:20px;width:20px;margin-bottom:0px;display:inline-block;\"></div><div style=\"background-color:rgb(254,224,139);height:20px;width:20px;margin-bottom:0px;display:inline-block;\"></div><div style=\"background-color:rgb(255,255,191);height:20px;width:20px;margin-bottom:0px;display:inline-block;\"></div><div style=\"background-color:rgb(217,239,139);height:20px;width:20px;margin-bottom:0px;display:inline-block;\"></div><div style=\"background-color:rgb(166,217,106);height:20px;width:20px;margin-bottom:0px;display:inline-block;\"></div><div style=\"background-color:rgb(102,189,99);height:20px;width:20px;margin-bottom:0px;display:inline-block;\"></div><div style=\"background-color:rgb(26,152,80);height:20px;width:20px;margin-bottom:0px;display:inline-block;\"></div><div style=\"background-color:rgb(0,104,55);height:20px;width:20px;margin-bottom:0px;display:inline-block;\"></div></div><div style=\"display:inline-block;padding:10px;\"><div>Spectral</div><div style=\"background-color:rgb(158,1,66);height:20px;width:20px;margin-bottom:0px;display:inline-block;\"></div><div style=\"background-color:rgb(213,62,79);height:20px;width:20px;margin-bottom:0px;display:inline-block;\"></div><div style=\"background-color:rgb(244,109,67);height:20px;width:20px;margin-bottom:0px;display:inline-block;\"></div><div style=\"background-color:rgb(253,174,97);height:20px;width:20px;margin-bottom:0px;display:inline-block;\"></div><div style=\"background-color:rgb(254,224,139);height:20px;width:20px;margin-bottom:0px;display:inline-block;\"></div><div style=\"background-color:rgb(255,255,191);height:20px;width:20px;margin-bottom:0px;display:inline-block;\"></div><div style=\"background-color:rgb(230,245,152);height:20px;width:20px;margin-bottom:0px;display:inline-block;\"></div><div style=\"background-color:rgb(171,221,164);height:20px;width:20px;margin-bottom:0px;display:inline-block;\"></div><div style=\"background-color:rgb(102,194,165);height:20px;width:20px;margin-bottom:0px;display:inline-block;\"></div><div style=\"background-color:rgb(50,136,189);height:20px;width:20px;margin-bottom:0px;display:inline-block;\"></div><div style=\"background-color:rgb(94,79,162);height:20px;width:20px;margin-bottom:0px;display:inline-block;\"></div></div><h4>Qualitative</h4><div style=\"display:inline-block;padding:10px;\"><div>Paired</div><div style=\"background-color:rgb(166,206,227);height:20px;width:20px;margin-bottom:0px;display:inline-block;\"></div><div style=\"background-color:rgb(31,120,180);height:20px;width:20px;margin-bottom:0px;display:inline-block;\"></div><div style=\"background-color:rgb(178,223,138);height:20px;width:20px;margin-bottom:0px;display:inline-block;\"></div><div style=\"background-color:rgb(51,160,44);height:20px;width:20px;margin-bottom:0px;display:inline-block;\"></div><div style=\"background-color:rgb(251,154,153);height:20px;width:20px;margin-bottom:0px;display:inline-block;\"></div><div style=\"background-color:rgb(227,26,28);height:20px;width:20px;margin-bottom:0px;display:inline-block;\"></div><div style=\"background-color:rgb(253,191,111);height:20px;width:20px;margin-bottom:0px;display:inline-block;\"></div><div style=\"background-color:rgb(255,127,0);height:20px;width:20px;margin-bottom:0px;display:inline-block;\"></div><div style=\"background-color:rgb(202,178,214);height:20px;width:20px;margin-bottom:0px;display:inline-block;\"></div><div style=\"background-color:rgb(106,61,154);height:20px;width:20px;margin-bottom:0px;display:inline-block;\"></div><div style=\"background-color:rgb(255,255,153);height:20px;width:20px;margin-bottom:0px;display:inline-block;\"></div></div><div style=\"display:inline-block;padding:10px;\"><div>Set3</div><div style=\"background-color:rgb(141,211,199);height:20px;width:20px;margin-bottom:0px;display:inline-block;\"></div><div style=\"background-color:rgb(255,255,179);height:20px;width:20px;margin-bottom:0px;display:inline-block;\"></div><div style=\"background-color:rgb(190,186,218);height:20px;width:20px;margin-bottom:0px;display:inline-block;\"></div><div style=\"background-color:rgb(251,128,114);height:20px;width:20px;margin-bottom:0px;display:inline-block;\"></div><div style=\"background-color:rgb(128,177,211);height:20px;width:20px;margin-bottom:0px;display:inline-block;\"></div><div style=\"background-color:rgb(253,180,98);height:20px;width:20px;margin-bottom:0px;display:inline-block;\"></div><div style=\"background-color:rgb(179,222,105);height:20px;width:20px;margin-bottom:0px;display:inline-block;\"></div><div style=\"background-color:rgb(252,205,229);height:20px;width:20px;margin-bottom:0px;display:inline-block;\"></div><div style=\"background-color:rgb(217,217,217);height:20px;width:20px;margin-bottom:0px;display:inline-block;\"></div><div style=\"background-color:rgb(188,128,189);height:20px;width:20px;margin-bottom:0px;display:inline-block;\"></div><div style=\"background-color:rgb(204,235,197);height:20px;width:20px;margin-bottom:0px;display:inline-block;\"></div></div>"
            ],
            "text/plain": [
              "<IPython.core.display.HTML object>"
            ]
          },
          "metadata": {
            "tags": []
          },
          "execution_count": 29
        }
      ]
    },
    {
      "cell_type": "code",
      "metadata": {
        "id": "IJ3Ke2tgRvrj",
        "colab_type": "code",
        "colab": {
          "base_uri": "https://localhost:8080/",
          "height": 41
        },
        "outputId": "97b4e226-b5eb-4992-a4b9-86225113f184"
      },
      "source": [
        "paired = cl.scales['11']['qual']['Paired']\n",
        "HTML(cl.to_html(paired))"
      ],
      "execution_count": 30,
      "outputs": [
        {
          "output_type": "execute_result",
          "data": {
            "text/html": [
              "<div style=\"background-color:rgb(166,206,227);height:20px;width:20px;margin-bottom:0px;display:inline-block;\"></div><div style=\"background-color:rgb(31,120,180);height:20px;width:20px;margin-bottom:0px;display:inline-block;\"></div><div style=\"background-color:rgb(178,223,138);height:20px;width:20px;margin-bottom:0px;display:inline-block;\"></div><div style=\"background-color:rgb(51,160,44);height:20px;width:20px;margin-bottom:0px;display:inline-block;\"></div><div style=\"background-color:rgb(251,154,153);height:20px;width:20px;margin-bottom:0px;display:inline-block;\"></div><div style=\"background-color:rgb(227,26,28);height:20px;width:20px;margin-bottom:0px;display:inline-block;\"></div><div style=\"background-color:rgb(253,191,111);height:20px;width:20px;margin-bottom:0px;display:inline-block;\"></div><div style=\"background-color:rgb(255,127,0);height:20px;width:20px;margin-bottom:0px;display:inline-block;\"></div><div style=\"background-color:rgb(202,178,214);height:20px;width:20px;margin-bottom:0px;display:inline-block;\"></div><div style=\"background-color:rgb(106,61,154);height:20px;width:20px;margin-bottom:0px;display:inline-block;\"></div><div style=\"background-color:rgb(255,255,153);height:20px;width:20px;margin-bottom:0px;display:inline-block;\"></div>"
            ],
            "text/plain": [
              "<IPython.core.display.HTML object>"
            ]
          },
          "metadata": {
            "tags": []
          },
          "execution_count": 30
        }
      ]
    },
    {
      "cell_type": "code",
      "metadata": {
        "id": "TSBH_Okcx1fI",
        "colab_type": "code",
        "colab": {
          "base_uri": "https://localhost:8080/",
          "height": 542
        },
        "outputId": "6db2c737-404e-4846-ea10-b8f015b355c4"
      },
      "source": [
        "# plot scattergeo with and color them by tournament_id\n",
        "\n",
        "import plotly.graph_objects as go\n",
        "\n",
        "usa['text'] = usa['date'] + '<br>' + usa['city'] + ' - ' + usa['tournament'] + '<br>' + usa['home_team'] + ' vs. ' + usa['away_team'] + '<br>' + 'Score: ' + usa['home_score'].astype(str) + ' - ' + usa['away_score'].astype(str) \n",
        "\n",
        "fig = go.Figure(data=go.Scattergeo(\n",
        "        lon = usa['long'],\n",
        "        lat = usa['lat'],\n",
        "        text = usa['text'],\n",
        "        mode = 'markers',\n",
        "        marker_colorscale = paired,\n",
        "        marker_color = usa['tournament_id'],\n",
        "        \n",
        "        ))\n",
        "\n",
        "fig.update_layout(\n",
        "        title = 'US International Soccer Matches Since 1885',\n",
        "        geo_scope='world',\n",
        "        geo_projection_type=\"natural earth\"\n",
        "    )\n",
        "fig.show()"
      ],
      "execution_count": 31,
      "outputs": [
        {
          "output_type": "display_data",
          "data": {
            "text/html": [
              "<html>\n",
              "<head><meta charset=\"utf-8\" /></head>\n",
              "<body>\n",
              "    <div>\n",
              "            <script src=\"https://cdnjs.cloudflare.com/ajax/libs/mathjax/2.7.5/MathJax.js?config=TeX-AMS-MML_SVG\"></script><script type=\"text/javascript\">if (window.MathJax) {MathJax.Hub.Config({SVG: {font: \"STIX-Web\"}});}</script>\n",
              "                <script type=\"text/javascript\">window.PlotlyConfig = {MathJaxConfig: 'local'};</script>\n",
              "        <script src=\"https://cdn.plot.ly/plotly-latest.min.js\"></script>    \n",
              "            <div id=\"4f580e44-2819-46e1-8c78-6d33579c1559\" class=\"plotly-graph-div\" style=\"height:525px; width:100%;\"></div>\n",
              "            <script type=\"text/javascript\">\n",
              "                \n",
              "                    window.PLOTLYENV=window.PLOTLYENV || {};\n",
              "                    \n",
              "                if (document.getElementById(\"4f580e44-2819-46e1-8c78-6d33579c1559\")) {\n",
              "                    Plotly.newPlot(\n",
              "                        '4f580e44-2819-46e1-8c78-6d33579c1559',\n",
              "                        [{\"lat\": [40.735657, 40.735657, 40.7127281, 40.7127281, 40.7127281, 40.735657, 40.833989, 40.7127281, 40.7127281, 33.7690164, 38.6268039, 34.0536909, 34.0536909, 40.7127281, 34.0536909, 40.7127281, 39.9527237, 39.100105, 32.7174209, 39.2908816, 34.0536909, 41.8755616, 37.7792808, 41.68174355, 41.764582, 32.7762719, 47.6038321, 38.8950092, 47.6038321, 39.9527237, 34.0536909, 47.6038321, 34.051522, 38.8950092, 33.7490987, 37.7792808, 40.833989, 26.1223084, 26.1223084, 40.833989, 38.6268039, 34.0536909, 34.0536909, 30.0929491, 25.7742658, 27.9477595, 45.5202471, 38.6268039, 33.8358492, 33.8358492, 34.0536909, 25.7742658, 25.7742658, 37.9577016, 32.7174209, 36.7295295, 35.0841034, 29.7589382, 32.753177, 29.4246002, 38.6268039, 38.6268039, 33.8358492, 40.833989, 41.68174355, 25.7742658, 34.0536909, 38.6268039, 28.3298487, 25.7742658, 25.7742658, 37.4443293, 27.9477595, 38.6268039, 25.7742658, 40.5462553, 40.2854881, 35.9556924, 25.7742658, 34.0536909, 33.8358492, 39.7392364, 37.4443293, 42.0653768, 34.1476452, 34.1476452, 34.0536909, 34.0536909, 34.0536909, 35.9556924, 38.8950092, 32.7762719, 25.94207545, 40.8808666, 37.4443293, 39.7392364, 38.8950092, 41.8755616, 41.8755616, 28.5421097, 40.5462553, 34.0536909, 34.0536909, 36.0726355, 33.4255056, 34.4221319, 28.5421097, 37.4443293, 33.6633386, 25.7742658, 33.8708215, 33.5965685, 41.3082138, 42.0653768, 41.8755616, 32.7762719, 32.7762719, 32.7762719, 32.7762719, 38.8950092, 35.9556924, 40.6178915, 33.8708215, 33.5965685, 33.5965685, 37.4443293, 33.4255056, 33.8708215, 47.6038321, 25.7742658, 25.7742658, 34.051522, 33.8708215, 32.7762719, 30.3321838, 36.189724, 32.6400541, 35.0841034, 33.8708215, 33.8708215, 40.5462553, 41.3082138, 34.1476452, 40.8808666, 34.1476452, 34.1476452, 37.4443293, 33.8708215, 32.7762719, 27.9477595, 42.0653768, 38.8950092, 40.5462553, 38.8950092, 33.8347516, 33.8347516, 34.0536909, 34.0536909, 41.68174355, 42.0653768, 38.8950092, 34.1476452, 34.0536909, 38.8950092, 37.5385087, 37.4443293, 32.7174209, 34.1476452, 37.4443293, 42.0653768, 38.6268039, 30.3321838, 39.2908816, 45.5202471, 38.8950092, 42.0653768, 28.5421097, 42.6618842, 42.6618842, 34.0536909, 34.0536909, 25.94207545, 32.7174209, 37.3361905, 45.5202471, 38.8950092, 37.3361905, 30.3321838, 26.1223084, 34.0536909, 32.7174209, 38.8950092, 34.1476452, 25.7742658, 25.7742658, 25.7742658, 33.5206824, 38.8950092, 42.0653768, 40.833989, 42.0653768, 38.8950092, 39.9622601, 34.0536909, 42.6618842, 25.7742658, 39.9622601, 34.1476452, 39.100105, 39.9622601, 42.0653768, 38.8950092, 42.0653768, 34.1476452, 34.1476452, 34.1476452, 34.1476452, 34.1476452, 47.6038321, 33.5206824, 38.8950092, 40.833989, 42.0653768, 38.8950092, 26.1223084, 25.7742658, 47.6038321, 29.7589382, 37.3361905, 37.5385087, 39.9622601, 42.0653768, 42.0653768, 42.0653768, 25.7742658, 25.7742658, 25.7742658, 32.7762719, 42.0653768, 39.9622601, 41.8755616, 42.0653768, 38.8950092, 39.9622601, 33.8708215, 35.0841034, 33.5206824, 41.8755616, 40.7670126, 47.6038321, 47.6038321, 42.0653768, 42.0653768, 40.833989, 40.833989, 41.764582, 39.9622601, 42.0653768, 32.7174209, 41.2366607, 37.7792808, 33.1506744, 35.7883046, 36.1622296, 41.5051613, 41.7623342, 34.142498, 27.9477595, 33.1506744, 37.3361905, 41.2366607, 41.2366607, 42.0653768, 42.0653768, 41.8755616, 41.8755616, 41.8755616, 41.2366607, 29.7589382, 40.833989, 41.2366607, 41.7500323, 38.8950092, 39.8389525, 41.2366607, 39.9622601, 36.1622296, 41.8755616, 47.6038321, 38.8950092, 42.0653768, 39.9527237, 41.8755616, 40.833989, 40.5916147, 38.8950092, 41.2366607, 27.9477595, 41.7623342, 39.9527237, 40.833989, 41.8755616, 39.849557, 41.2366607, 40.833989, 36.1622296, 42.0653768, 42.3315509, 27.9477595, 39.100105, 38.8950092, 29.7589382, 34.1476452, 39.9527237, 41.2366607, 25.94207545, null, 34.142498, 30.3321838, 38.8950092, 27.9477595, 39.9622601, 39.100105, 29.7589382, 39.8389525, 41.5051613, 38.8950092, 47.6038321, 40.5664878, 45.5202471, 40.5664878, 41.7623342, 39.2908816, 32.701939, 41.8755616, 39.9622601, 39.100105, 41.2366607, null, 30.3321838, 26.3586885, 41.2366607, 29.4246002, 33.1506744, 42.0653768, 39.100105, 39.2908816, 33.7490987, 39.849557, 34.1476452, 41.2366607, 39.9622601, 37.3541132, 41.8755616, 39.9527237, 47.6038321, 29.7589382, 34.142498, 30.3321838, 32.7174209, 37.3361905, 40.5664878, 39.8389525, 41.7623342, 36.1622296, 27.9477595, 41.5051613, 39.9527237, 32.701939, 37.3541132, null, 28.5421097, 41.2366607, 35.7883046, 39.849557, 40.833989, 36.1622296, 27.9477595, 41.7623342, 34.142498, 37.3361905, 28.5421097, 29.7589382, 38.8950092, 39.1014537, 44.9504037, 41.5051613, 39.100105, 39.9527237, 36.1622296, 41.8755616, 59.3251172, 59.9133301, 52.2337172, 45.4972159, 52.2337172, -22.9110137, 41.894802, 19.4326009, 19.4326009, 23.135305, 59.9133301, 54.5964411, 19.4326009, 19.4326009, 55.8611389, 19.4326009, 19.4326009, 18.547327, 18.547327, 64.24450355, 37.5666791, 14.5906216, -6.1753942, 19.4326009, 43.653963, 19.4326009, 4.59808, 19.4326009, 15.49479015, 14.0931919, 18.547327, 18.547327, 18.547327, 32.3298121, 18.547327, 47.561701, 19.4326009, 32.3298121, 51.77305755, 42.30423, 19.4326009, 18.547327, 18.547327, 32.0443395, 31.243798, 25.63978365, 52.4006522, 41.894802, 19.4326009, 49.2608724, 18.833333, 18.547327, 18.547327, 18.547327, 13.6989939, 15.6356088, 15.6356088, 25.63978365, 64.24450355, 47.0505452, 38.51736365, 32.3298121, 48.8566101, 47.4983815, 53.3497645, 49.8158683, 38.7077507, 49.2608724, 19.4326009, 10.6572678, 18.547327, 15.6356088, 19.4021151, 49.2608724, 10.6916755, 35.1799528, 15.6356088, 15.6356088, 17.9712148, 9.9325427, 15.6356088, 10.6572678, 32.3298121, 47.4983815, null, 47.2126274, 47.4250593, 41.894802, 52.2337172, 45.813177, 10.6572678, 41.232208, 32.3298121, 45.6523093, 41.0096334, 9.9325427, 13.6989939, -3.7304512, 41.6521328, 33.5675527, 53.3497645, 45.278752, 24.6319692, 35.6828387, 13.6989939, 14.0931919, -0.2201641, 19.4326009, 64.24450355, 59.9133301, 51.5073219, 26.3039999, 10.6572678, 17.9712148, 50.8465573, 58.5909124, -12.0621065, 10.6572678, 9.9325427, null, 23.1677456, 17.9712148, 9.9325427, 13.6989939, 19.4326009, 49.2433804, 50.8465573, 48.2083537, -17.333333, 19.4326009, 17.9712148, 31.6258257, -29.9531928, 55.7504461, 14.4920682, 9.9325427, 13.0977832, 15.49479015, 17.9712148, 19.4326009, 9.9325427, 10.6572678, 33.2541176, 37.5022355, 54.0924445, 53.3497645, 35.8713, 17.9712148, 52.3745403, 52.5353471, 12.0535331, 17.9712148, 8.9714493, 13.6989939, 10.6572678, 19.4326009, 8.9714493, 15.6356088, 9.9325427, 55.8611389, 51.5142273, 57.7072326, 47.5581077, -26.205, 50.0606742, 51.5073219, 43.4620412, 13.0977832, 15.6356088, 23.135305, 10.6572678, 13.6989939, 9.9325427, 19.4326009, 10.6572678, 15.49479015, 48.1516988, 56.1496278, 52.3745403, -33.928992, 50.8465573, 48.935773, 46.0498146, 8.9714493, 44.40726, 43.653963, 15.6356088, 19.4326009, 17.9712148, 17.1184569, 45.0352566, 15.49479015, 19.4326009, 17.9712148, 43.8519774, 9.9325427, 8.9714493, 55.8611389, 48.2083537, 50.0874654, 53.3497645, -34.170249, 56.1496278, 47.3723941, 52.3745403, 50.938361, 15.6356088, 18.34495825, 13.1561864, 23.135305, 9.9325427, 8.9714493, 19.4326009, 15.49479015, 10.4223291, 39.7437902, 53.3497645, 45.6963425, 51.5073219, 19.4326009, 43.7698712, 10.6572678, 24.6319692, -0.2201641, -32.3217257, -32.3217257, -32.3217257, -34.9087162, 45.6963425, 47.2186371, 20.6720375, 20.6720375, 37.2633325, 45.6963425, 51.5110321, 8.6376133, -25.7459374, -25.7459374, -26.205, -25.7459374, -25.665655, -3.1316333, -8.0641931, 51.5073219, -34.9059039, -34.9059039, -34.9059039, 41.894802, 23.135305, 19.4326009, -25.4295963, -19.9227318, -8.0641931, 19.4326009, 19.4326009, 18.547327, null, 37.5666791, 36.6421169, 14.0931919, 43.7698712, 35.1851045, -1.29038825, 22.3272706, -32.3217257, -34.9087162, 13.6989939, 48.8566101, 20.6720375, 20.6720375, 36.3496, 35.8242715, 35.5391697, 45.4401467, 45.6963425, 49.4432174, 49.4432174, 49.453872, 10.6499149, 10.0740372, -25.665655, -29.116395, -26.1563889, -25.665655, -26.205, 34.9172012, -5.805398, -12.9822499, 50.9654864], \"lon\": [-74.1723667, -74.1723667, -74.0060152, -74.0060152, -74.0060152, -74.1723667, -74.0970865, -74.0060152, -74.0060152, -118.1916048, -90.1994097, -118.2427666, -118.2427666, -74.0060152, -118.2427666, -74.0060152, -75.1635262, -94.5781416, -117.1627714, -76.610759, -118.2427666, -87.6244212, -122.4192363, -72.7881465300835, -72.6908547, -96.7968559, -122.3300624, -77.0365625, -122.3300624, -75.1635262, -118.2427666, -122.3300624, -118.129807, -77.0365625, -84.3901849, -122.4192363, -74.0970865, -80.1433786, -80.1433786, -74.0970865, -90.1994097, -118.2427666, -118.2427666, -96.0806548, -80.1936589, -82.458444, -122.6741949, -90.1994097, -118.3406288, -118.3406288, -118.2427666, -80.1936589, -80.1936589, -121.2907796, -117.1627714, -119.708861260756, -106.6509851, -95.3676974, -97.3327459, -98.4951405, -90.1994097, -90.1994097, -118.3406288, -74.0970865, -72.7881465300835, -80.1936589, -118.2427666, -90.1994097, -80.62054663871, -80.1936589, -80.1936589, -122.1598465, -82.458444, -90.1994097, -80.1936589, -74.4660408, -76.6506001, -80.0053176, -80.1936589, -118.2427666, -118.3406288, -104.9848623, -122.1598465, -71.2478308, -118.1444779, -118.1444779, -118.2427666, -118.2427666, -118.2427666, -80.0053176, -77.0365625, -96.7968559, -80.2397528099553, -88.6297839, -122.1598465, -104.9848623, -77.0365625, -87.6244212, -87.6244212, -81.3790388, -74.4660408, -118.2427666, -118.2427666, -79.7919754, -111.9400125, -119.7026673, -81.3790388, -122.1598465, -117.903317, -80.1936589, -117.9294165, -117.659405, -72.9250518, -71.2478308, -87.6244212, -96.7968559, -96.7968559, -96.7968559, -96.7968559, -77.0365625, -80.0053176, -75.3786521, -117.9294165, -117.659405, -117.659405, -122.1598465, -111.9400125, -117.9294165, -122.3300624, -80.1936589, -80.1936589, -118.129807, -117.9294165, -96.7968559, -81.655651, -86.7857862, -117.0841955, -106.6509851, -117.9294165, -117.9294165, -74.4660408, -72.9250518, -118.1444779, -88.6297839, -118.1444779, -118.1444779, -122.1598465, -117.9294165, -96.7968559, -82.458444, -71.2478308, -77.0365625, -74.4660408, -77.0365625, -117.911732, -117.911732, -118.2427666, -118.2427666, -72.7881465300835, -71.2478308, -77.0365625, -118.1444779, -118.2427666, -77.0365625, -77.43428, -122.1598465, -117.1627714, -118.1444779, -122.1598465, -71.2478308, -90.1994097, -81.655651, -76.610759, -122.6741949, -77.0365625, -71.2478308, -81.3790388, -83.3804439, -83.3804439, -118.2427666, -118.2427666, -80.2397528099553, -117.1627714, -121.8905833, -122.6741949, -77.0365625, -121.8905833, -81.655651, -80.1433786, -118.2427666, -117.1627714, -77.0365625, -118.1444779, -80.1936589, -80.1936589, -80.1936589, -86.8024326, -77.0365625, -71.2478308, -74.0970865, -71.2478308, -77.0365625, -83.0007065, -118.2427666, -83.3804439, -80.1936589, -83.0007065, -118.1444779, -94.5781416, -83.0007065, -71.2478308, -77.0365625, -71.2478308, -118.1444779, -118.1444779, -118.1444779, -118.1444779, -118.1444779, -122.3300624, -86.8024326, -77.0365625, -74.0970865, -71.2478308, -77.0365625, -80.1433786, -80.1936589, -122.3300624, -95.3676974, -121.8905833, -77.43428, -83.0007065, -71.2478308, -71.2478308, -71.2478308, -80.1936589, -80.1936589, -80.1936589, -96.7968559, -71.2478308, -83.0007065, -87.6244212, -71.2478308, -77.0365625, -83.0007065, -117.9294165, -106.6509851, -86.8024326, -87.6244212, -111.8904308, -122.3300624, -122.3300624, -71.2478308, -71.2478308, -74.0970865, -74.0970865, -72.6908547, -83.0007065, -71.2478308, -117.1627714, -95.4180561, -122.4192363, -96.8236116, -78.7811964, -86.7743531, -81.6934446, -72.62040920868, -118.248596, -82.458444, -96.8236116, -121.8905833, -95.4180561, -95.4180561, -71.2478308, -71.2478308, -87.6244212, -87.6244212, -87.6244212, -95.4180561, -95.3676974, -74.0970865, -95.4180561, -87.8042216, -77.0365625, -104.922045785116, -95.4180561, -83.0007065, -86.7743531, -87.6244212, -122.3300624, -77.0365625, -71.2478308, -75.1635262, -87.6244212, -74.0970865, -111.8841013, -77.0365625, -95.4180561, -82.458444, -72.62040920868, -75.1635262, -74.0970865, -87.6244212, -75.3557458, -95.4180561, -74.0970865, -86.7743531, -71.2478308, -83.0466403, -82.458444, -94.5781416, -77.0365625, -95.3676974, -118.1444779, -75.1635262, -95.4180561, -80.2397528099553, null, -118.248596, -81.655651, -77.0365625, -82.458444, -83.0007065, -94.5781416, -95.3676974, -104.922045785116, -81.6934446, -77.0365625, -122.3300624, -111.838904, -122.6741949, -111.838904, -72.62040920868, -76.610759, -97.105624826688, -87.6244212, -83.0007065, -94.5781416, -95.4180561, null, -81.655651, -80.0830984, -95.4180561, -98.4951405, -96.8236116, -71.2478308, -94.5781416, -76.610759, -84.3901849, -75.3557458, -118.1444779, -95.4180561, -83.0007065, -121.9551744, -87.6244212, -75.1635262, -122.3300624, -95.3676974, -118.248596, -81.655651, -117.1627714, -121.8905833, -111.838904, -104.922045785116, -72.62040920868, -86.7743531, -82.458444, -81.6934446, -75.1635262, -97.105624826688, -121.9551744, null, -81.3790388, -95.4180561, -78.7811964, -75.3557458, -74.0970865, -86.7743531, -82.458444, -72.62040920868, -118.248596, -121.8905833, -81.3790388, -95.3676974, -77.0365625, -84.5124602, -93.1015026, -81.6934446, -94.5781416, -75.1635262, -86.7743531, -87.6244212, 18.0710935, 10.7389701, 21.0714111288323, -73.6103642, 21.0714111288323, -43.2093727, 12.4853384, -99.1333416, -99.1333416, -82.3589631, 10.7389701, -5.9302761, -99.1333416, -99.1333416, -4.2501672, -99.1333416, -99.1333416, -72.3395928, -72.3395928, -21.7692635721513, 126.9782914, 120.9799696, 106.827183, -99.1333416, -79.387207, -99.1333416, -74.0760439, -99.1333416, -88.067138609666, -87.2012631, -72.3395928, -72.3395928, -72.3395928, -64.7057782525722, -72.3395928, -52.715149, -99.1333416, -64.7057782525722, 19.4783822195225, -83.029861, -99.1333416, -72.3395928, -72.3395928, 34.7509908, 34.783591565541, -100.293101629066, 16.9197520238885, 12.4853384, -99.1333416, -123.1139529, -98.0, -72.3395928, -72.3395928, -72.3395928, -89.1914249, -89.8988087, -89.8988087, -100.293101629066, -21.7692635721513, 8.3054682, -8.89634072930799, -64.7057782525722, 2.3514992, 19.0404707, -6.2602732, 6.1296751, -9.1365919, -123.1139529, -99.1333416, -61.5180173, -72.3395928, -89.8988087, -99.0170173, -123.1139529, -84.7561318, 129.0752365, -89.8988087, -89.8988087, -76.7928128, -84.0795782, -89.8988087, -61.5180173, -64.7057782525722, 19.0404707, null, 9.5233202, 9.3765878, 12.4853384, 21.0714111288323, 15.977048, -61.5180173, -8.6273183, -64.7057782525722, 25.6102746, 28.9651646, -84.0795782, -89.1914249, -38.5217989, -4.728562, -7.61875660682273, -6.2602732, -66.058044, 46.7150648, 139.7594549, -89.1914249, -87.2012631, -78.5123274, -99.1333416, -21.7692635721513, 10.7389701, -0.1276474, 50.1960237, -61.5180173, -76.7928128, 4.351697, 16.1903511, -77.0365256, -61.5180173, -84.0795782, null, 113.3489301, -76.7928128, -84.0795782, -89.1914249, -99.1333416, -122.9725459, 4.351697, 16.3725042, -61.5, -99.1333416, -76.7928128, -7.9891608, -71.3379884, 37.6174943, -91.5407271734186, -84.0795782, -59.6184184, -88.067138609666, -76.7928128, -99.1333416, -84.0795782, -61.5180173, 126.566967132955, 15.08738, 12.1286127, -6.2602732, 128.6018, -76.7928128, 4.89797550561798, 19.7136301805999, -61.751805, -76.7928128, -79.5341802, -89.1914249, -61.5180173, -99.1333416, -79.5341802, -89.8988087, -84.0795782, -4.2501672, 7.4652789, 11.9670171, 7.5878261, 28.049722, 19.9371393, -0.1276474, -3.8099719, -59.6184184, -89.8988087, -82.3589631, -61.5180173, -89.1914249, -84.0795782, -99.1333416, -61.5180173, -88.067138609666, 17.1093063, 10.2134046, 4.89797550561798, 18.417396, 4.351697, 2.3580232, 14.5067824, -79.5341802, 8.9338624, -79.387207, -89.8988087, -99.1333416, -76.7928128, -61.8448509, 38.9764814, -88.067138609666, -99.1333416, -76.7928128, 18.3866868, -84.0795782, -79.5341802, -4.2501672, 16.3725042, 14.4212535, -6.2602732, -70.7407427, 10.2134046, 8.5423328, 4.89797550561798, 6.959974, -89.8988087, -66.1683740026913, -61.2279621, -82.3589631, -84.0795782, -79.5341802, -99.1333416, -88.067138609666, -61.458708, -8.8071119, -6.2602732, 4.73594802991681, -0.1276474, -99.1333416, 11.2555757, -61.5180173, 46.7150648, -78.5123274, -58.0892136, -58.0892136, -58.0892136, -54.9582718, 4.73594802991681, -1.5541362, -103.3383962, -103.3383962, 127.0287472, 4.73594802991681, 7.0960124, -70.230234, 28.1879444, 28.1879444, 28.049722, 28.1879444, 27.241448, -59.9825041, -34.8781517, -0.1276474, -56.1913569, -56.1913569, -56.1913569, 12.4853384, -82.3589631, -99.1333416, -49.2712724, -43.9450948, -34.8781517, -99.1333416, -99.1333416, -72.3395928, null, 126.9782914, 127.4891742, -87.2012631, 11.2555757, 136.8998438, -78.7353231113364, 114.1898678, -58.0892136, -54.9582718, -89.1914249, 2.3514992, -103.3383962, -103.3383962, 127.3848, 127.1480657, 129.3119136, 4.3873058, 4.73594802991681, 7.7689951, 7.7689951, 11.077298, -71.6396282, -69.3215667, 27.241448, 26.215496, 27.8858333, 27.241448, 28.049722, 33.6378531, -35.2080905, -38.4812772, 5.5001456], \"marker\": {\"color\": [1, 1, 1, 1, 1, 1, 1, 1, 1, 2, 2, 1, 2, 1, 2, 1, 1, 2, 2, 2, 2, 1, 1, 1, 1, 1, 1, 1, 1, 1, 2, 2, 1, 1, 1, 1, 1, 2, 2, 1, 2, 1, 1, 1, 1, 1, 1, 2, 2, 2, 1, 1, 1, 1, 1, 1, 1, 1, 1, 1, 2, 2, 2, 1, 2, 1, 1, 2, 1, 1, 1, 1, 1, 1, 1, 1, 1, 1, 1, 3, 3, 1, 1, 1, 4, 4, 4, 4, 4, 1, 1, 1, 1, 1, 1, 1, 5, 5, 5, 1, 1, 1, 1, 1, 1, 1, 1, 1, 1, 1, 1, 1, 5, 5, 5, 4, 4, 4, 4, 1, 1, 1, 1, 1, 1, 1, 1, 1, 1, 1, 1, 1, 1, 1, 1, 1, 1, 1, 1, 1, 1, 1, 1, 6, 6, 6, 6, 1, 1, 1, 5, 5, 5, 1, 4, 4, 4, 4, 1, 5, 5, 5, 1, 2, 2, 2, 5, 5, 2, 2, 1, 1, 1, 2, 2, 2, 1, 4, 4, 4, 4, 1, 1, 1, 1, 1, 1, 1, 1, 5, 5, 1, 1, 4, 4, 4, 1, 5, 5, 5, 2, 2, 2, 1, 1, 1, 2, 1, 2, 1, 2, 2, 2, 4, 4, 4, 4, 4, 1, 1, 1, 1, 1, 1, 1, 1, 1, 1, 1, 1, 1, 4, 4, 4, 4, 4, 1, 1, 1, 2, 1, 2, 2, 2, 1, 1, 2, 1, 2, 4, 4, 4, 4, 4, 4, 2, 2, 2, 1, 1, 1, 1, 1, 1, 1, 1, 1, 1, 1, 1, 4, 4, 4, 4, 4, 4, 1, 1, 1, 1, 2, 2, 2, 2, 1, 2, 2, 2, 4, 4, 4, 4, 4, 4, 2, 2, 1, 1, 1, 1, 1, 1, 1, 1, 1, 1, 1, 4, 4, 4, 4, 4, 4, 1, 1, 1, 1, 1, 1, 1, 2, 2, 2, 1, 2, 1, 1, 2, 2, 4, 4, 4, 4, 4, 4, 2, 2, 1, 1, 1, 1, 1, 1, 4, 4, 4, 4, 4, 4, 1, 1, 2, 7, 7, 7, 7, 7, 7, 2, 1, 2, 1, 2, 1, 4, 4, 4, 4, 4, 4, 2, 2, 1, 1, 1, 1, 1, 1, 1, 1, 1, 1, 1, 1, 1, 4, 4, 4, 4, 4, 4, 1, 1, 1, 1, 1, 1, 6, 1, 1, 3, 1, 1, 2, 2, 1, 2, 2, 2, 2, 1, 1, 1, 1, 2, 2, 2, 1, 2, 2, 2, 1, 1, 1, 2, 2, 2, 2, 1, 1, 1, 1, 1, 1, 1, 1, 1, 1, 1, 1, 2, 2, 1, 1, 1, 1, 1, 1, 1, 1, 1, 1, 1, 1, 1, 1, 1, 1, 2, 2, 1, 1, 1, 1, 1, 2, 8, 1, 1, 2, 2, 2, 2, 1, 1, 1, 1, 1, 6, 1, 1, 1, 1, 1, 1, 1, 1, 1, 1, 1, 1, 1, 1, 9, 10, 1, 1, 7, 4, 1, 1, 1, 1, 1, 1, 1, 1, 1, 2, 2, 1, 1, 2, 2, 2, 2, 2, 1, 1, 1, 9, 1, 1, 1, 1, 2, 2, 2, 2, 2, 2, 2, 2, 1, 1, 1, 1, 6, 1, 1, 1, 2, 2, 2, 2, 2, 2, 2, 2, 2, 1, 1, 1, 1, 1, 1, 1, 1, 2, 2, 2, 2, 2, 2, 2, 2, 2, 1, 1, 1, 1, 1, 1, 1, 1, 1, 1, 2, 1, 2, 2, 1, 2, 2, 2, 1, 2, 2, 1, 1, 1, 1, 1, 1, 1, 1, 1, 2, 1, 2, 1, 2, 2, 2, 2, 2, 1, 1, 1, 1, 2, 6, 1, 9, 7, 7, 7, 7, 7, 6, 6, 9, 9, 6, 9, 6, 7, 9, 9, 9, 6, 6, 6, 6, 1, 6, 6, 6, 2, 3, 2, 6, 6, 6, 1, 1, 2, 2, 8, 8, 2, 6, 10, 7, 11, 7, 7, 2, 6, 9, 9, 6, 6, 6, 9, 9, 1, 6, 6, 7, 7, 9, 9, 1, 6, 6, 1, 6, 6, 1], \"colorscale\": [[0.0, \"rgb(166,206,227)\"], [0.1, \"rgb(31,120,180)\"], [0.2, \"rgb(178,223,138)\"], [0.3, \"rgb(51,160,44)\"], [0.4, \"rgb(251,154,153)\"], [0.5, \"rgb(227,26,28)\"], [0.6, \"rgb(253,191,111)\"], [0.7, \"rgb(255,127,0)\"], [0.8, \"rgb(202,178,214)\"], [0.9, \"rgb(106,61,154)\"], [1.0, \"rgb(255,255,153)\"]]}, \"mode\": \"markers\", \"text\": [\"1885-11-28<br>Newark - Friendly<br>United States vs. Canada<br>Score: 0 - 1\", \"1886-11-25<br>Newark - Friendly<br>United States vs. Canada<br>Score: 3 - 2\", \"1925-11-08<br>New York - Friendly<br>United States vs. Canada<br>Score: 6 - 1\", \"1926-11-06<br>New York - Friendly<br>United States vs. Canada<br>Score: 6 - 2\", \"1935-05-19<br>New York - Friendly<br>United States vs. Scotland<br>Score: 1 - 5\", \"1935-06-09<br>Newark - Friendly<br>United States vs. Scotland<br>Score: 1 - 4\", \"1948-09-26<br>East Rutherford - Friendly<br>United States vs. Israel<br>Score: 3 - 1\", \"1949-06-19<br>New York - Friendly<br>United States vs. Scotland<br>Score: 0 - 4\", \"1953-06-08<br>New York - Friendly<br>United States vs. England<br>Score: 3 - 6\", \"1957-04-28<br>Long Beach - FIFA World Cup qualification<br>United States vs. Mexico<br>Score: 2 - 7\", \"1957-07-06<br>St. Louis - FIFA World Cup qualification<br>United States vs. Canada<br>Score: 2 - 3\", \"1959-05-28<br>Los Angeles - Friendly<br>United States vs. England<br>Score: 1 - 8\", \"1960-11-06<br>Los Angeles - FIFA World Cup qualification<br>United States vs. Mexico<br>Score: 3 - 3\", \"1964-05-27<br>New York - Friendly<br>United States vs. England<br>Score: 0 - 10\", \"1965-03-07<br>Los Angeles - FIFA World Cup qualification<br>United States vs. Mexico<br>Score: 2 - 2\", \"1968-09-15<br>New York - Friendly<br>United States vs. Israel<br>Score: 3 - 3\", \"1968-09-25<br>Philadelphia - Friendly<br>United States vs. Israel<br>Score: 0 - 4\", \"1968-11-03<br>Kansas City - FIFA World Cup qualification<br>United States vs. Bermuda<br>Score: 6 - 2\", \"1969-05-11<br>San Diego - FIFA World Cup qualification<br>United States vs. Haiti<br>Score: 0 - 1\", \"1972-08-29<br>Baltimore - FIFA World Cup qualification<br>United States vs. Canada<br>Score: 2 - 2\", \"1972-09-10<br>Los Angeles - FIFA World Cup qualification<br>United States vs. Mexico<br>Score: 1 - 2\", \"1973-08-03<br>Chicago - Friendly<br>United States vs. Poland<br>Score: 0 - 1\", \"1973-08-10<br>San Francisco - Friendly<br>United States vs. Poland<br>Score: 0 - 4\", \"1973-08-12<br>New Britain - Friendly<br>United States vs. Poland<br>Score: 1 - 0\", \"1973-09-09<br>Hartford - Friendly<br>United States vs. Bermuda<br>Score: 1 - 0\", \"1974-09-08<br>Dallas - Friendly<br>United States vs. Mexico<br>Score: 0 - 1\", \"1975-06-24<br>Seattle - Friendly<br>United States vs. Poland<br>Score: 0 - 4\", \"1976-05-23<br>Washington - Friendly<br>United States vs. Italy<br>Score: 0 - 4\", \"1976-05-28<br>Seattle - Friendly<br>United States vs. Brazil<br>Score: 0 - 2\", \"1976-05-31<br>Philadelphia - Friendly<br>United States vs. England<br>Score: 1 - 3\", \"1976-10-03<br>Los Angeles - FIFA World Cup qualification<br>United States vs. Mexico<br>Score: 0 - 0\", \"1976-10-20<br>Seattle - FIFA World Cup qualification<br>United States vs. Canada<br>Score: 2 - 0\", \"1977-09-30<br>Monterey Park - Friendly<br>United States vs. El Salvador<br>Score: 0 - 0\", \"1977-10-06<br>Washington - Friendly<br>United States vs. China PR<br>Score: 1 - 1\", \"1977-10-10<br>Atlanta - Friendly<br>United States vs. China PR<br>Score: 1 - 0\", \"1977-10-16<br>San Francisco - Friendly<br>United States vs. China PR<br>Score: 2 - 1\", \"1979-05-02<br>East Rutherford - Friendly<br>United States vs. France<br>Score: 0 - 6\", \"1980-10-25<br>Fort Lauderdale - FIFA World Cup qualification<br>United States vs. Canada<br>Score: 0 - 0\", \"1980-11-23<br>Fort Lauderdale - FIFA World Cup qualification<br>United States vs. Mexico<br>Score: 2 - 1\", \"1984-05-30<br>East Rutherford - Friendly<br>United States vs. Italy<br>Score: 0 - 0\", \"1984-10-06<br>St. Louis - FIFA World Cup qualification<br>United States vs. Cura\\u00e7ao<br>Score: 4 - 0\", \"1984-10-09<br>Los Angeles - Friendly<br>United States vs. El Salvador<br>Score: 3 - 1\", \"1984-10-11<br>Los Angeles - Friendly<br>United States vs. Colombia<br>Score: 1 - 0\", \"1984-11-30<br>Hempstead - Friendly<br>United States vs. Ecuador<br>Score: 0 - 0\", \"1984-12-02<br>Miami - Friendly<br>United States vs. Ecuador<br>Score: 2 - 2\", \"1985-02-08<br>Tampa - Friendly<br>United States vs. Switzerland<br>Score: 1 - 1\", \"1985-04-04<br>Portland - Friendly<br>United States vs. Canada<br>Score: 1 - 1\", \"1985-05-15<br>St. Louis - FIFA World Cup qualification<br>United States vs. Trinidad and Tobago<br>Score: 2 - 1\", \"1985-05-19<br>Torrance - FIFA World Cup qualification<br>United States vs. Trinidad and Tobago<br>Score: 1 - 0\", \"1985-05-31<br>Torrance - FIFA World Cup qualification<br>United States vs. Costa Rica<br>Score: 0 - 1\", \"1985-06-16<br>Los Angeles - Friendly<br>United States vs. England<br>Score: 0 - 5\", \"1986-02-05<br>Miami - Friendly<br>United States vs. Canada<br>Score: 0 - 0\", \"1986-02-07<br>Miami - Friendly<br>United States vs. Uruguay<br>Score: 1 - 1\", \"1988-06-01<br>Stockton - Friendly<br>United States vs. Chile<br>Score: 1 - 1\", \"1988-06-03<br>San Diego - Friendly<br>United States vs. Chile<br>Score: 1 - 3\", \"1988-06-05<br>Fresno - Friendly<br>United States vs. Chile<br>Score: 0 - 3\", \"1988-06-07<br>Albuquerque - Friendly<br>United States vs. Ecuador<br>Score: 0 - 1\", \"1988-06-10<br>Houston - Friendly<br>United States vs. Ecuador<br>Score: 0 - 2\", \"1988-06-12<br>Fort Worth - Friendly<br>United States vs. Ecuador<br>Score: 0 - 0\", \"1988-06-14<br>San Antonio - Friendly<br>United States vs. Costa Rica<br>Score: 1 - 0\", \"1988-08-13<br>St. Louis - FIFA World Cup qualification<br>United States vs. Jamaica<br>Score: 5 - 1\", \"1989-04-30<br>St. Louis - FIFA World Cup qualification<br>United States vs. Costa Rica<br>Score: 1 - 0\", \"1989-05-13<br>Torrance - FIFA World Cup qualification<br>United States vs. Trinidad and Tobago<br>Score: 1 - 1\", \"1989-06-04<br>East Rutherford - Friendly<br>United States vs. Peru<br>Score: 3 - 0\", \"1989-06-17<br>New Britain - FIFA World Cup qualification<br>United States vs. Guatemala<br>Score: 2 - 1\", \"1989-06-24<br>Miami - Friendly<br>United States vs. Colombia<br>Score: 0 - 1\", \"1989-08-13<br>Los Angeles - Friendly<br>United States vs. South Korea<br>Score: 1 - 2\", \"1989-11-05<br>St. Louis - FIFA World Cup qualification<br>United States vs. El Salvador<br>Score: 0 - 0\", \"1989-11-14<br>Cocoa Beach - Friendly<br>United States vs. Bermuda<br>Score: 2 - 1\", \"1990-02-02<br>Miami - Friendly<br>United States vs. Costa Rica<br>Score: 0 - 2\", \"1990-02-04<br>Miami - Friendly<br>United States vs. Colombia<br>Score: 1 - 1\", \"1990-02-24<br>Palo Alto - Friendly<br>United States vs. Russia<br>Score: 1 - 3\", \"1990-03-10<br>Tampa - Friendly<br>United States vs. Finland<br>Score: 2 - 1\", \"1990-04-08<br>St. Louis - Friendly<br>United States vs. Iceland<br>Score: 4 - 1\", \"1990-04-22<br>Miami - Friendly<br>United States vs. Colombia<br>Score: 0 - 1\", \"1990-05-05<br>Piscataway - Friendly<br>United States vs. Malta<br>Score: 1 - 0\", \"1990-05-09<br>Hershey - Friendly<br>United States vs. Poland<br>Score: 3 - 1\", \"1990-09-15<br>High Point - Friendly<br>United States vs. Trinidad and Tobago<br>Score: 3 - 0\", \"1991-02-01<br>Miami - Friendly<br>United States vs. Switzerland<br>Score: 0 - 1\", \"1991-03-12<br>Los Angeles - NAFU Championship<br>United States vs. Mexico<br>Score: 2 - 2\", \"1991-03-16<br>Torrance - NAFU Championship<br>United States vs. Canada<br>Score: 2 - 0\", \"1991-05-05<br>Denver - Friendly<br>United States vs. Uruguay<br>Score: 1 - 0\", \"1991-05-19<br>Palo Alto - Friendly<br>United States vs. Argentina<br>Score: 0 - 1\", \"1991-06-01<br>Foxborough - Friendly<br>United States vs. Republic of Ireland<br>Score: 1 - 1\", \"1991-06-29<br>Pasadena - Gold Cup<br>United States vs. Trinidad and Tobago<br>Score: 2 - 1\", \"1991-07-01<br>Pasadena - Gold Cup<br>United States vs. Guatemala<br>Score: 3 - 0\", \"1991-07-03<br>Los Angeles - Gold Cup<br>United States vs. Costa Rica<br>Score: 3 - 2\", \"1991-07-05<br>Los Angeles - Gold Cup<br>United States vs. Mexico<br>Score: 2 - 0\", \"1991-07-07<br>Los Angeles - Gold Cup<br>United States vs. Honduras<br>Score: 0 - 0\", \"1991-09-14<br>High Point - Friendly<br>United States vs. Jamaica<br>Score: 1 - 0\", \"1991-10-19<br>Washington - Friendly<br>United States vs. North Korea<br>Score: 1 - 2\", \"1991-11-24<br>Dallas - Friendly<br>United States vs. Costa Rica<br>Score: 1 - 1\", \"1992-01-25<br>Miami Gardens - Friendly<br>United States vs. Russia<br>Score: 0 - 1\", \"1992-02-02<br>Pontiac - Friendly<br>United States vs. Russia<br>Score: 2 - 1\", \"1992-04-04<br>Palo Alto - Friendly<br>United States vs. China PR<br>Score: 5 - 0\", \"1992-05-17<br>Denver - Friendly<br>United States vs. Scotland<br>Score: 0 - 1\", \"1992-05-30<br>Washington - USA Cup<br>United States vs. Republic of Ireland<br>Score: 3 - 1\", \"1992-06-03<br>Chicago - USA Cup<br>United States vs. Portugal<br>Score: 1 - 0\", \"1992-06-06<br>Chicago - USA Cup<br>United States vs. Italy<br>Score: 1 - 1\", \"1992-06-13<br>Orlando - Friendly<br>United States vs. Australia<br>Score: 0 - 1\", \"1992-06-27<br>Piscataway - Friendly<br>United States vs. Ukraine<br>Score: 0 - 0\", \"1992-07-31<br>Los Angeles - Friendly<br>United States vs. Colombia<br>Score: 0 - 1\", \"1992-08-02<br>Los Angeles - Friendly<br>United States vs. Brazil<br>Score: 0 - 1\", \"1992-10-09<br>Greensboro - Friendly<br>United States vs. Canada<br>Score: 0 - 0\", \"1993-01-30<br>Tempe - Friendly<br>United States vs. Denmark<br>Score: 2 - 2\", \"1993-02-06<br>Santa Barbara - Friendly<br>United States vs. Romania<br>Score: 1 - 1\", \"1993-02-13<br>Orlando - Friendly<br>United States vs. Russia<br>Score: 0 - 1\", \"1993-02-21<br>Palo Alto - Friendly<br>United States vs. Russia<br>Score: 0 - 0\", \"1993-04-17<br>Costa Mesa - Friendly<br>United States vs. Iceland<br>Score: 1 - 1\", \"1993-05-08<br>Miami - Friendly<br>United States vs. Colombia<br>Score: 1 - 2\", \"1993-05-23<br>Fullerton - Friendly<br>United States vs. Bolivia<br>Score: 0 - 0\", \"1993-05-26<br>Mission Viejo - Friendly<br>United States vs. Peru<br>Score: 0 - 0\", \"1993-06-06<br>New Haven - USA Cup<br>United States vs. Brazil<br>Score: 0 - 2\", \"1993-06-09<br>Foxborough - USA Cup<br>United States vs. England<br>Score: 2 - 0\", \"1993-06-13<br>Chicago - USA Cup<br>United States vs. Germany<br>Score: 3 - 4\", \"1993-07-10<br>Dallas - Gold Cup<br>United States vs. Jamaica<br>Score: 1 - 0\", \"1993-07-14<br>Dallas - Gold Cup<br>United States vs. Panama<br>Score: 2 - 1\", \"1993-07-17<br>Dallas - Gold Cup<br>United States vs. Honduras<br>Score: 1 - 0\", \"1993-07-21<br>Dallas - Gold Cup<br>United States vs. Costa Rica<br>Score: 1 - 0\", \"1993-10-13<br>Washington - Friendly<br>United States vs. Mexico<br>Score: 1 - 1\", \"1993-10-16<br>High Point - Friendly<br>United States vs. Ukraine<br>Score: 1 - 2\", \"1993-10-23<br>Bethlehem - Friendly<br>United States vs. Ukraine<br>Score: 0 - 1\", \"1993-11-07<br>Fullerton - Friendly<br>United States vs. Jamaica<br>Score: 1 - 0\", \"1993-11-14<br>Mission Viejo - Friendly<br>United States vs. Cayman Islands<br>Score: 8 - 1\", \"1993-12-05<br>Mission Viejo - Friendly<br>United States vs. El Salvador<br>Score: 7 - 0\", \"1993-12-18<br>Palo Alto - Friendly<br>United States vs. Germany<br>Score: 0 - 3\", \"1994-01-15<br>Tempe - Friendly<br>United States vs. Norway<br>Score: 2 - 1\", \"1994-01-22<br>Fullerton - Friendly<br>United States vs. Switzerland<br>Score: 1 - 1\", \"1994-01-29<br>Seattle - Friendly<br>United States vs. Russia<br>Score: 1 - 1\", \"1994-02-18<br>Miami - Friendly<br>United States vs. Bolivia<br>Score: 1 - 1\", \"1994-02-20<br>Miami - Friendly<br>United States vs. Sweden<br>Score: 1 - 3\", \"1994-03-05<br>Monterey Park - Friendly<br>United States vs. South Korea<br>Score: 1 - 0\", \"1994-03-12<br>Fullerton - Friendly<br>United States vs. South Korea<br>Score: 1 - 1\", \"1994-03-26<br>Dallas - Friendly<br>United States vs. Bolivia<br>Score: 2 - 2\", \"1994-04-16<br>Jacksonville - Friendly<br>United States vs. Moldova<br>Score: 1 - 1\", \"1994-04-20<br>Davidson - Friendly<br>United States vs. Moldova<br>Score: 3 - 0\", \"1994-04-24<br>Chula Vista - Friendly<br>United States vs. Iceland<br>Score: 1 - 2\", \"1994-04-30<br>Albuquerque - Friendly<br>United States vs. Chile<br>Score: 0 - 2\", \"1994-05-07<br>Fullerton - Friendly<br>United States vs. Estonia<br>Score: 4 - 0\", \"1994-05-15<br>Fullerton - Friendly<br>United States vs. Armenia<br>Score: 1 - 0\", \"1994-05-25<br>Piscataway - Friendly<br>United States vs. Saudi Arabia<br>Score: 0 - 0\", \"1994-05-28<br>New Haven - Friendly<br>United States vs. Greece<br>Score: 1 - 1\", \"1994-06-04<br>Pasadena - Friendly<br>United States vs. Mexico<br>Score: 1 - 0\", \"1994-06-18<br>Pontiac - FIFA World Cup<br>United States vs. Switzerland<br>Score: 1 - 1\", \"1994-06-22<br>Pasadena - FIFA World Cup<br>United States vs. Colombia<br>Score: 2 - 1\", \"1994-06-26<br>Pasadena - FIFA World Cup<br>United States vs. Romania<br>Score: 0 - 1\", \"1994-07-04<br>Palo Alto - FIFA World Cup<br>United States vs. Brazil<br>Score: 0 - 1\", \"1994-12-11<br>Fullerton - Friendly<br>United States vs. Honduras<br>Score: 1 - 1\", \"1995-03-25<br>Dallas - Friendly<br>United States vs. Uruguay<br>Score: 2 - 2\", \"1995-05-28<br>Tampa - Friendly<br>United States vs. Costa Rica<br>Score: 1 - 2\", \"1995-06-11<br>Foxborough - USA Cup<br>United States vs. Nigeria<br>Score: 3 - 2\", \"1995-06-18<br>Washington - USA Cup<br>United States vs. Mexico<br>Score: 4 - 0\", \"1995-06-25<br>Piscataway - USA Cup<br>United States vs. Colombia<br>Score: 0 - 0\", \"1995-10-08<br>Washington - Friendly<br>United States vs. Saudi Arabia<br>Score: 4 - 3\", \"1996-01-13<br>Anaheim - Gold Cup<br>United States vs. Trinidad and Tobago<br>Score: 3 - 2\", \"1996-01-16<br>Anaheim - Gold Cup<br>United States vs. El Salvador<br>Score: 2 - 0\", \"1996-01-18<br>Los Angeles - Gold Cup<br>United States vs. Brazil<br>Score: 0 - 1\", \"1996-01-21<br>Los Angeles - Gold Cup<br>United States vs. Guatemala<br>Score: 3 - 0\", \"1996-05-26<br>New Britain - Friendly<br>United States vs. Scotland<br>Score: 2 - 1\", \"1996-06-09<br>Foxborough - USA Cup<br>United States vs. Republic of Ireland<br>Score: 2 - 1\", \"1996-06-12<br>Washington - USA Cup<br>United States vs. Bolivia<br>Score: 0 - 2\", \"1996-06-16<br>Pasadena - USA Cup<br>United States vs. Mexico<br>Score: 2 - 2\", \"1996-08-30<br>Los Angeles - Friendly<br>United States vs. El Salvador<br>Score: 3 - 1\", \"1996-11-03<br>Washington - FIFA World Cup qualification<br>United States vs. Guatemala<br>Score: 2 - 0\", \"1996-11-10<br>Richmond - FIFA World Cup qualification<br>United States vs. Trinidad and Tobago<br>Score: 2 - 0\", \"1996-12-14<br>Palo Alto - FIFA World Cup qualification<br>United States vs. Costa Rica<br>Score: 2 - 1\", \"1997-01-17<br>San Diego - USA Cup<br>United States vs. Peru<br>Score: 0 - 1\", \"1997-01-19<br>Pasadena - USA Cup<br>United States vs. Mexico<br>Score: 0 - 2\", \"1997-03-16<br>Palo Alto - FIFA World Cup qualification<br>United States vs. Canada<br>Score: 3 - 0\", \"1997-04-20<br>Foxborough - FIFA World Cup qualification<br>United States vs. Mexico<br>Score: 2 - 2\", \"1997-06-04<br>St. Louis - Friendly<br>United States vs. Paraguay<br>Score: 0 - 0\", \"1997-06-17<br>Jacksonville - Friendly<br>United States vs. Israel<br>Score: 2 - 1\", \"1997-08-07<br>Baltimore - Friendly<br>United States vs. Ecuador<br>Score: 0 - 1\", \"1997-09-07<br>Portland - FIFA World Cup qualification<br>United States vs. Costa Rica<br>Score: 1 - 0\", \"1997-10-03<br>Washington - FIFA World Cup qualification<br>United States vs. Jamaica<br>Score: 1 - 1\", \"1997-11-16<br>Foxborough - FIFA World Cup qualification<br>United States vs. El Salvador<br>Score: 4 - 2\", \"1998-01-24<br>Orlando - Friendly<br>United States vs. Sweden<br>Score: 1 - 0\", \"1998-02-01<br>Oakland - Gold Cup<br>United States vs. Cuba<br>Score: 3 - 0\", \"1998-02-07<br>Oakland - Gold Cup<br>United States vs. Costa Rica<br>Score: 2 - 1\", \"1998-02-10<br>Los Angeles - Gold Cup<br>United States vs. Brazil<br>Score: 1 - 0\", \"1998-02-15<br>Los Angeles - Gold Cup<br>United States vs. Mexico<br>Score: 0 - 1\", \"1998-02-21<br>Miami Gardens - Friendly<br>United States vs. Netherlands<br>Score: 0 - 2\", \"1998-03-14<br>San Diego - Friendly<br>United States vs. Paraguay<br>Score: 2 - 2\", \"1998-05-16<br>San Jose - Friendly<br>United States vs. North Macedonia<br>Score: 0 - 0\", \"1998-05-24<br>Portland - Friendly<br>United States vs. Kuwait<br>Score: 2 - 0\", \"1998-05-30<br>Washington - Friendly<br>United States vs. Scotland<br>Score: 0 - 0\", \"1998-11-06<br>San Jose - Friendly<br>United States vs. Australia<br>Score: 0 - 0\", \"1999-02-06<br>Jacksonville - Friendly<br>United States vs. Germany<br>Score: 3 - 0\", \"1999-02-21<br>Fort Lauderdale - Friendly<br>United States vs. Chile<br>Score: 2 - 1\", \"1999-03-11<br>Los Angeles - USA Cup<br>United States vs. Guatemala<br>Score: 3 - 1\", \"1999-03-13<br>San Diego - USA Cup<br>United States vs. Mexico<br>Score: 1 - 2\", \"1999-06-13<br>Washington - Friendly<br>United States vs. Argentina<br>Score: 1 - 0\", \"2000-01-16<br>Pasadena - Friendly<br>United States vs. Iran<br>Score: 1 - 1\", \"2000-02-12<br>Miami - Gold Cup<br>United States vs. Haiti<br>Score: 3 - 0\", \"2000-02-16<br>Miami - Gold Cup<br>United States vs. Peru<br>Score: 1 - 0\", \"2000-02-19<br>Miami - Gold Cup<br>United States vs. Colombia<br>Score: 2 - 2\", \"2000-03-12<br>Birmingham - Friendly<br>United States vs. Tunisia<br>Score: 1 - 1\", \"2000-06-03<br>Washington - USA Cup<br>United States vs. South Africa<br>Score: 4 - 0\", \"2000-06-06<br>Foxborough - USA Cup<br>United States vs. Republic of Ireland<br>Score: 1 - 1\", \"2000-06-11<br>East Rutherford - USA Cup<br>United States vs. Mexico<br>Score: 3 - 0\", \"2000-08-16<br>Foxborough - FIFA World Cup qualification<br>United States vs. Barbados<br>Score: 7 - 0\", \"2000-09-03<br>Washington - FIFA World Cup qualification<br>United States vs. Guatemala<br>Score: 1 - 0\", \"2000-10-11<br>Columbus - FIFA World Cup qualification<br>United States vs. Costa Rica<br>Score: 0 - 0\", \"2000-10-25<br>Los Angeles - Friendly<br>United States vs. Mexico<br>Score: 2 - 0\", \"2001-01-27<br>Oakland - Friendly<br>United States vs. China PR<br>Score: 2 - 1\", \"2001-02-03<br>Miami - Friendly<br>United States vs. Colombia<br>Score: 0 - 1\", \"2001-02-28<br>Columbus - FIFA World Cup qualification<br>United States vs. Mexico<br>Score: 2 - 0\", \"2001-03-03<br>Pasadena - Friendly<br>United States vs. Brazil<br>Score: 1 - 2\", \"2001-04-25<br>Kansas City - FIFA World Cup qualification<br>United States vs. Costa Rica<br>Score: 1 - 0\", \"2001-06-07<br>Columbus - Friendly<br>United States vs. Ecuador<br>Score: 0 - 0\", \"2001-06-20<br>Foxborough - FIFA World Cup qualification<br>United States vs. Trinidad and Tobago<br>Score: 2 - 0\", \"2001-09-01<br>Washington - FIFA World Cup qualification<br>United States vs. Honduras<br>Score: 2 - 3\", \"2001-10-07<br>Foxborough - FIFA World Cup qualification<br>United States vs. Jamaica<br>Score: 2 - 1\", \"2002-01-19<br>Pasadena - Gold Cup<br>United States vs. South Korea<br>Score: 2 - 1\", \"2002-01-21<br>Pasadena - Gold Cup<br>United States vs. Cuba<br>Score: 1 - 0\", \"2002-01-27<br>Pasadena - Gold Cup<br>United States vs. El Salvador<br>Score: 4 - 0\", \"2002-01-30<br>Pasadena - Gold Cup<br>United States vs. Canada<br>Score: 0 - 0\", \"2002-02-02<br>Pasadena - Gold Cup<br>United States vs. Costa Rica<br>Score: 2 - 0\", \"2002-03-02<br>Seattle - Friendly<br>United States vs. Honduras<br>Score: 4 - 0\", \"2002-03-10<br>Birmingham - Friendly<br>United States vs. Ecuador<br>Score: 1 - 0\", \"2002-05-12<br>Washington - Friendly<br>United States vs. Uruguay<br>Score: 2 - 1\", \"2002-05-16<br>East Rutherford - Friendly<br>United States vs. Jamaica<br>Score: 5 - 0\", \"2002-05-19<br>Foxborough - Friendly<br>United States vs. Netherlands<br>Score: 0 - 2\", \"2002-11-17<br>Washington - Friendly<br>United States vs. El Salvador<br>Score: 2 - 0\", \"2003-01-18<br>Fort Lauderdale - Friendly<br>United States vs. Canada<br>Score: 4 - 0\", \"2003-02-08<br>Miami - Friendly<br>United States vs. Argentina<br>Score: 0 - 1\", \"2003-03-29<br>Seattle - Friendly<br>United States vs. Venezuela<br>Score: 2 - 0\", \"2003-05-08<br>Houston - Friendly<br>United States vs. Mexico<br>Score: 0 - 0\", \"2003-05-26<br>San Jose - Friendly<br>United States vs. Wales<br>Score: 2 - 0\", \"2003-06-08<br>Richmond - Friendly<br>United States vs. New Zealand<br>Score: 2 - 1\", \"2003-07-06<br>Columbus - Friendly<br>United States vs. Paraguay<br>Score: 2 - 0\", \"2003-07-12<br>Foxborough - Gold Cup<br>United States vs. El Salvador<br>Score: 2 - 0\", \"2003-07-14<br>Foxborough - Gold Cup<br>United States vs. Martinique<br>Score: 2 - 0\", \"2003-07-19<br>Foxborough - Gold Cup<br>United States vs. Cuba<br>Score: 5 - 0\", \"2003-07-23<br>Miami - Gold Cup<br>United States vs. Brazil<br>Score: 1 - 2\", \"2003-07-26<br>Miami - Gold Cup<br>United States vs. Costa Rica<br>Score: 3 - 2\", \"2004-03-13<br>Miami - Friendly<br>United States vs. Haiti<br>Score: 1 - 1\", \"2004-04-28<br>Dallas - Friendly<br>United States vs. Mexico<br>Score: 1 - 0\", \"2004-06-02<br>Foxborough - Friendly<br>United States vs. Honduras<br>Score: 4 - 0\", \"2004-06-13<br>Columbus - FIFA World Cup qualification<br>United States vs. Grenada<br>Score: 3 - 0\", \"2004-07-11<br>Chicago - Friendly<br>United States vs. Poland<br>Score: 1 - 1\", \"2004-09-04<br>Foxborough - FIFA World Cup qualification<br>United States vs. El Salvador<br>Score: 2 - 0\", \"2004-10-13<br>Washington - FIFA World Cup qualification<br>United States vs. Panama<br>Score: 6 - 0\", \"2004-11-17<br>Columbus - FIFA World Cup qualification<br>United States vs. Jamaica<br>Score: 1 - 1\", \"2005-03-09<br>Fullerton - Friendly<br>United States vs. Colombia<br>Score: 3 - 0\", \"2005-03-19<br>Albuquerque - Friendly<br>United States vs. Honduras<br>Score: 1 - 0\", \"2005-03-30<br>Birmingham - FIFA World Cup qualification<br>United States vs. Guatemala<br>Score: 2 - 0\", \"2005-05-28<br>Chicago - Friendly<br>United States vs. England<br>Score: 1 - 2\", \"2005-06-04<br>Salt Lake City - FIFA World Cup qualification<br>United States vs. Costa Rica<br>Score: 3 - 0\", \"2005-07-07<br>Seattle - Gold Cup<br>United States vs. Cuba<br>Score: 4 - 1\", \"2005-07-09<br>Seattle - Gold Cup<br>United States vs. Canada<br>Score: 2 - 0\", \"2005-07-12<br>Foxborough - Gold Cup<br>United States vs. Costa Rica<br>Score: 0 - 0\", \"2005-07-16<br>Foxborough - Gold Cup<br>United States vs. Jamaica<br>Score: 3 - 1\", \"2005-07-21<br>East Rutherford - Gold Cup<br>United States vs. Honduras<br>Score: 2 - 1\", \"2005-07-24<br>East Rutherford - Gold Cup<br>United States vs. Panama<br>Score: 0 - 0\", \"2005-08-17<br>Hartford - FIFA World Cup qualification<br>United States vs. Trinidad and Tobago<br>Score: 1 - 0\", \"2005-09-03<br>Columbus - FIFA World Cup qualification<br>United States vs. Mexico<br>Score: 2 - 0\", \"2005-10-12<br>Foxborough - FIFA World Cup qualification<br>United States vs. Panama<br>Score: 2 - 0\", \"2006-01-22<br>San Diego - Friendly<br>United States vs. Canada<br>Score: 0 - 0\", \"2006-01-29<br>Carson - Friendly<br>United States vs. Norway<br>Score: 5 - 0\", \"2006-02-10<br>San Francisco - Friendly<br>United States vs. Japan<br>Score: 3 - 2\", \"2006-02-19<br>Frisco - Friendly<br>United States vs. Guatemala<br>Score: 4 - 0\", \"2006-04-11<br>Cary - Friendly<br>United States vs. Jamaica<br>Score: 1 - 1\", \"2006-05-23<br>Nashville - Friendly<br>United States vs. Morocco<br>Score: 0 - 1\", \"2006-05-26<br>Cleveland - Friendly<br>United States vs. Venezuela<br>Score: 2 - 0\", \"2006-05-28<br>East Hartford - Friendly<br>United States vs. Latvia<br>Score: 1 - 0\", \"2007-02-07<br>Glendale - Friendly<br>United States vs. Mexico<br>Score: 2 - 0\", \"2007-03-25<br>Tampa - Friendly<br>United States vs. Ecuador<br>Score: 3 - 1\", \"2007-03-28<br>Frisco - Friendly<br>United States vs. Guatemala<br>Score: 0 - 0\", \"2007-06-02<br>San Jose - Friendly<br>United States vs. China PR<br>Score: 4 - 1\", \"2007-06-07<br>Carson - Gold Cup<br>United States vs. Guatemala<br>Score: 1 - 0\", \"2007-06-09<br>Carson - Gold Cup<br>United States vs. Trinidad and Tobago<br>Score: 2 - 0\", \"2007-06-12<br>Foxborough - Gold Cup<br>United States vs. El Salvador<br>Score: 4 - 0\", \"2007-06-16<br>Foxborough - Gold Cup<br>United States vs. Panama<br>Score: 2 - 1\", \"2007-06-21<br>Chicago - Gold Cup<br>United States vs. Canada<br>Score: 2 - 1\", \"2007-06-24<br>Chicago - Gold Cup<br>United States vs. Mexico<br>Score: 2 - 1\", \"2007-09-09<br>Chicago - Friendly<br>United States vs. Brazil<br>Score: 2 - 4\", \"2008-01-19<br>Carson - Friendly<br>United States vs. Sweden<br>Score: 2 - 0\", \"2008-02-06<br>Houston - Friendly<br>United States vs. Mexico<br>Score: 2 - 2\", \"2008-06-08<br>East Rutherford - Friendly<br>United States vs. Argentina<br>Score: 0 - 0\", \"2008-06-15<br>Carson - FIFA World Cup qualification<br>United States vs. Barbados<br>Score: 8 - 0\", \"2008-09-10<br>Bridgeview - FIFA World Cup qualification<br>United States vs. Trinidad and Tobago<br>Score: 3 - 0\", \"2008-10-11<br>Washington - FIFA World Cup qualification<br>United States vs. Cuba<br>Score: 6 - 1\", \"2008-11-19<br>Commerce City - FIFA World Cup qualification<br>United States vs. Guatemala<br>Score: 2 - 0\", \"2009-01-24<br>Carson - Friendly<br>United States vs. Sweden<br>Score: 3 - 2\", \"2009-02-11<br>Columbus - FIFA World Cup qualification<br>United States vs. Mexico<br>Score: 2 - 0\", \"2009-04-01<br>Nashville - FIFA World Cup qualification<br>United States vs. Trinidad and Tobago<br>Score: 3 - 0\", \"2009-06-06<br>Chicago - FIFA World Cup qualification<br>United States vs. Honduras<br>Score: 2 - 1\", \"2009-07-04<br>Seattle - Gold Cup<br>United States vs. Grenada<br>Score: 4 - 0\", \"2009-07-08<br>Washington - Gold Cup<br>United States vs. Honduras<br>Score: 2 - 0\", \"2009-07-11<br>Foxborough - Gold Cup<br>United States vs. Haiti<br>Score: 2 - 2\", \"2009-07-18<br>Philadelphia - Gold Cup<br>United States vs. Panama<br>Score: 2 - 1\", \"2009-07-23<br>Chicago - Gold Cup<br>United States vs. Honduras<br>Score: 2 - 0\", \"2009-07-26<br>East Rutherford - Gold Cup<br>United States vs. Mexico<br>Score: 0 - 5\", \"2009-09-05<br>Sandy City - FIFA World Cup qualification<br>United States vs. El Salvador<br>Score: 2 - 1\", \"2009-10-14<br>Washington - FIFA World Cup qualification<br>United States vs. Costa Rica<br>Score: 2 - 2\", \"2010-01-23<br>Carson - Friendly<br>United States vs. Honduras<br>Score: 1 - 3\", \"2010-02-24<br>Tampa - Friendly<br>United States vs. El Salvador<br>Score: 2 - 1\", \"2010-05-25<br>East Hartford - Friendly<br>United States vs. Czech Republic<br>Score: 2 - 4\", \"2010-05-29<br>Philadelphia - Friendly<br>United States vs. Turkey<br>Score: 2 - 1\", \"2010-08-10<br>East Rutherford - Friendly<br>United States vs. Brazil<br>Score: 0 - 2\", \"2010-10-09<br>Chicago - Friendly<br>United States vs. Poland<br>Score: 2 - 2\", \"2010-10-12<br>Chester - Friendly<br>United States vs. Colombia<br>Score: 0 - 0\", \"2011-01-22<br>Carson - Friendly<br>United States vs. Chile<br>Score: 1 - 1\", \"2011-03-26<br>East Rutherford - Friendly<br>United States vs. Argentina<br>Score: 1 - 1\", \"2011-03-29<br>Nashville - Friendly<br>United States vs. Paraguay<br>Score: 0 - 1\", \"2011-06-04<br>Foxborough - Friendly<br>United States vs. Spain<br>Score: 0 - 4\", \"2011-06-07<br>Detroit - Gold Cup<br>United States vs. Canada<br>Score: 2 - 0\", \"2011-06-11<br>Tampa - Gold Cup<br>United States vs. Panama<br>Score: 1 - 2\", \"2011-06-14<br>Kansas City - Gold Cup<br>United States vs. Guadeloupe<br>Score: 1 - 0\", \"2011-06-19<br>Washington - Gold Cup<br>United States vs. Jamaica<br>Score: 2 - 0\", \"2011-06-22<br>Houston - Gold Cup<br>United States vs. Panama<br>Score: 1 - 0\", \"2011-06-25<br>Pasadena - Gold Cup<br>United States vs. Mexico<br>Score: 2 - 4\", \"2011-08-10<br>Philadelphia - Friendly<br>United States vs. Mexico<br>Score: 1 - 1\", \"2011-09-02<br>Carson - Friendly<br>United States vs. Costa Rica<br>Score: 0 - 1\", \"2011-10-08<br>Miami Gardens - Friendly<br>United States vs. Honduras<br>Score: 1 - 0\", \"2011-10-11<br>Harrison - Friendly<br>United States vs. Ecuador<br>Score: 0 - 1\", \"2012-01-21<br>Glendale - Friendly<br>United States vs. Venezuela<br>Score: 1 - 0\", \"2012-05-26<br>Jacksonville - Friendly<br>United States vs. Scotland<br>Score: 5 - 1\", \"2012-05-30<br>Washington - Friendly<br>United States vs. Brazil<br>Score: 1 - 4\", \"2012-06-08<br>Tampa - FIFA World Cup qualification<br>United States vs. Antigua and Barbuda<br>Score: 3 - 1\", \"2012-09-11<br>Columbus - FIFA World Cup qualification<br>United States vs. Jamaica<br>Score: 1 - 0\", \"2012-10-16<br>Kansas City - FIFA World Cup qualification<br>United States vs. Guatemala<br>Score: 3 - 1\", \"2013-01-29<br>Houston - Friendly<br>United States vs. Canada<br>Score: 0 - 0\", \"2013-03-22<br>Commerce City - FIFA World Cup qualification<br>United States vs. Costa Rica<br>Score: 1 - 0\", \"2013-05-29<br>Cleveland - Friendly<br>United States vs. Belgium<br>Score: 2 - 4\", \"2013-06-02<br>Washington - Friendly<br>United States vs. Germany<br>Score: 4 - 3\", \"2013-06-11<br>Seattle - FIFA World Cup qualification<br>United States vs. Panama<br>Score: 2 - 0\", \"2013-06-18<br>Sandy - FIFA World Cup qualification<br>United States vs. Honduras<br>Score: 1 - 0\", \"2013-07-09<br>Portland - Gold Cup<br>United States vs. Belize<br>Score: 6 - 1\", \"2013-07-13<br>Sandy - Gold Cup<br>United States vs. Cuba<br>Score: 4 - 1\", \"2013-07-16<br>East Hartford - Gold Cup<br>United States vs. Costa Rica<br>Score: 1 - 0\", \"2013-07-21<br>Baltimore - Gold Cup<br>United States vs. El Salvador<br>Score: 5 - 1\", \"2013-07-24<br>Arlington - Gold Cup<br>United States vs. Honduras<br>Score: 3 - 1\", \"2013-07-28<br>Chicago - Gold Cup<br>United States vs. Panama<br>Score: 1 - 0\", \"2013-09-10<br>Columbus - FIFA World Cup qualification<br>United States vs. Mexico<br>Score: 2 - 0\", \"2013-10-11<br>Kansas City - FIFA World Cup qualification<br>United States vs. Jamaica<br>Score: 2 - 0\", \"2014-02-01<br>Carson - Friendly<br>United States vs. South Korea<br>Score: 2 - 0\", \"2014-06-01<br>Harrison - Friendly<br>United States vs. Turkey<br>Score: 2 - 1\", \"2014-06-07<br>Jacksonville - Friendly<br>United States vs. Nigeria<br>Score: 2 - 1\", \"2014-10-14<br>Boca Raton - Friendly<br>United States vs. Honduras<br>Score: 1 - 1\", \"2015-02-08<br>Carson - Friendly<br>United States vs. Panama<br>Score: 2 - 0\", \"2015-04-15<br>San Antonio - Friendly<br>United States vs. Mexico<br>Score: 2 - 0\", \"2015-07-07<br>Frisco - Gold Cup<br>United States vs. Honduras<br>Score: 2 - 1\", \"2015-07-10<br>Foxborough - Gold Cup<br>United States vs. Haiti<br>Score: 1 - 0\", \"2015-07-13<br>Kansas City - Gold Cup<br>United States vs. Panama<br>Score: 1 - 1\", \"2015-07-18<br>Baltimore - Gold Cup<br>United States vs. Cuba<br>Score: 6 - 0\", \"2015-07-22<br>Atlanta - Gold Cup<br>United States vs. Jamaica<br>Score: 1 - 2\", \"2015-07-25<br>Chester - Gold Cup<br>United States vs. Panama<br>Score: 1 - 1\", \"2015-10-10<br>Pasadena - Friendly<br>United States vs. Mexico<br>Score: 2 - 3\", \"2016-01-31<br>Carson - Friendly<br>United States vs. Iceland<br>Score: 3 - 2\", \"2016-03-29<br>Columbus - FIFA World Cup qualification<br>United States vs. Guatemala<br>Score: 4 - 0\", \"2016-06-03<br>Santa Clara - Copa Am\\u00e9rica<br>United States vs. Colombia<br>Score: 0 - 2\", \"2016-06-07<br>Chicago - Copa Am\\u00e9rica<br>United States vs. Costa Rica<br>Score: 4 - 0\", \"2016-06-11<br>Philadelphia - Copa Am\\u00e9rica<br>United States vs. Paraguay<br>Score: 1 - 0\", \"2016-06-16<br>Seattle - Copa Am\\u00e9rica<br>United States vs. Ecuador<br>Score: 2 - 1\", \"2016-06-21<br>Houston - Copa Am\\u00e9rica<br>United States vs. Argentina<br>Score: 0 - 4\", \"2016-06-25<br>Glendale - Copa Am\\u00e9rica<br>United States vs. Colombia<br>Score: 0 - 1\", \"2016-09-06<br>Jacksonville - FIFA World Cup qualification<br>United States vs. Trinidad and Tobago<br>Score: 4 - 0\", \"2017-01-29<br>San Diego - Friendly<br>United States vs. Serbia<br>Score: 0 - 0\", \"2017-03-24<br>San Jose - FIFA World Cup qualification<br>United States vs. Honduras<br>Score: 6 - 0\", \"2017-06-03<br>Sandy - Friendly<br>United States vs. Venezuela<br>Score: 1 - 1\", \"2017-06-08<br>Commerce City - FIFA World Cup qualification<br>United States vs. Trinidad and Tobago<br>Score: 2 - 0\", \"2017-07-01<br>East Hartford - Friendly<br>United States vs. Ghana<br>Score: 2 - 1\", \"2017-07-08<br>Nashville - Gold Cup<br>United States vs. Panama<br>Score: 1 - 1\", \"2017-07-12<br>Tampa - Gold Cup<br>United States vs. Martinique<br>Score: 3 - 2\", \"2017-07-15<br>Cleveland - Gold Cup<br>United States vs. Nicaragua<br>Score: 3 - 0\", \"2017-07-19<br>Philadelphia - Gold Cup<br>United States vs. El Salvador<br>Score: 2 - 0\", \"2017-07-22<br>Arlington - Gold Cup<br>United States vs. Costa Rica<br>Score: 2 - 0\", \"2017-07-26<br>Santa Clara - Gold Cup<br>United States vs. Jamaica<br>Score: 2 - 1\", \"2017-09-01<br>Harrison - FIFA World Cup qualification<br>United States vs. Costa Rica<br>Score: 0 - 2\", \"2017-10-06<br>Orlando - FIFA World Cup qualification<br>United States vs. Panama<br>Score: 4 - 0\", \"2018-01-28<br>Carson - Friendly<br>United States vs. Bosnia and Herzegovina<br>Score: 0 - 0\", \"2018-03-27<br>Cary - Friendly<br>United States vs. Paraguay<br>Score: 1 - 0\", \"2018-05-28<br>Chester - Friendly<br>United States vs. Bolivia<br>Score: 3 - 0\", \"2018-09-07<br>East Rutherford - Friendly<br>United States vs. Brazil<br>Score: 0 - 2\", \"2018-09-11<br>Nashville - Friendly<br>United States vs. Mexico<br>Score: 1 - 0\", \"2018-10-11<br>Tampa - Friendly<br>United States vs. Colombia<br>Score: 2 - 4\", \"2018-10-16<br>East Hartford - Friendly<br>United States vs. Peru<br>Score: 1 - 1\", \"2019-01-27<br>Glendale - Friendly<br>United States vs. Panama<br>Score: 3 - 0\", \"2019-02-02<br>San Jose - Friendly<br>United States vs. Costa Rica<br>Score: 2 - 0\", \"2019-03-21<br>Orlando - Friendly<br>United States vs. Ecuador<br>Score: 1 - 0\", \"2019-03-26<br>Houston - Friendly<br>United States vs. Chile<br>Score: 1 - 1\", \"2019-06-05<br>Washington - Friendly<br>United States vs. Jamaica<br>Score: 0 - 1\", \"2019-06-09<br>Cincinnati - Friendly<br>United States vs. Venezuela<br>Score: 0 - 3\", \"2019-06-18<br>Saint Paul - Gold Cup<br>United States vs. Guyana<br>Score: 4 - 0\", \"2019-06-22<br>Cleveland - Gold Cup<br>United States vs. Trinidad and Tobago<br>Score: 6 - 0\", \"2019-06-26<br>Kansas City - Gold Cup<br>United States vs. Panama<br>Score: 1 - 0\", \"2019-06-30<br>Philadelphia - Gold Cup<br>United States vs. Curacao<br>Score: 1 - 0\", \"2019-07-03<br>Nashville - Gold Cup<br>United States vs. Jamaica<br>Score: 3 - 1\", \"2019-07-07<br>Chicago - Gold Cup<br>United States vs. Mexico<br>Score: 0 - 1\", \"1916-08-20<br>Stockholm - Friendly<br>Sweden vs. United States<br>Score: 2 - 3\", \"1916-09-03<br>Kristiania - Friendly<br>Norway vs. United States<br>Score: 1 - 1\", \"1924-06-10<br>Warsaw - Friendly<br>Poland vs. United States<br>Score: 2 - 3\", \"1925-06-27<br>Montr\\u00e9al - Friendly<br>Canada vs. United States<br>Score: 1 - 0\", \"1928-06-10<br>Warsaw - Friendly<br>Poland vs. United States<br>Score: 3 - 3\", \"1930-08-17<br>Rio de Janeiro - Friendly<br>Brazil vs. United States<br>Score: 4 - 3\", \"1934-05-27<br>Rome - FIFA World Cup<br>Italy vs. United States<br>Score: 7 - 1\", \"1937-09-12<br>Mexico City - Friendly<br>Mexico vs. United States<br>Score: 7 - 2\", \"1937-09-19<br>Mexico City - Friendly<br>Mexico vs. United States<br>Score: 7 - 3\", \"1947-07-20<br>Havana - NAFU Championship<br>Cuba vs. United States<br>Score: 5 - 2\", \"1948-08-06<br>Oslo - Friendly<br>Norway vs. United States<br>Score: 11 - 0\", \"1948-08-11<br>Belfast - Friendly<br>Northern Ireland vs. United States<br>Score: 5 - 0\", \"1949-09-04<br>Mexico City - FIFA World Cup qualification<br>Mexico vs. United States<br>Score: 6 - 0\", \"1949-09-18<br>Mexico City - FIFA World Cup qualification<br>Mexico vs. United States<br>Score: 6 - 2\", \"1952-04-30<br>Glasgow - Friendly<br>Scotland vs. United States<br>Score: 6 - 0\", \"1954-01-10<br>Mexico City - FIFA World Cup qualification<br>Mexico vs. United States<br>Score: 4 - 0\", \"1954-01-14<br>Mexico City - FIFA World Cup qualification<br>Mexico vs. United States<br>Score: 3 - 1\", \"1954-04-03<br>Port-au-Prince - FIFA World Cup qualification<br>Haiti vs. United States<br>Score: 2 - 3\", \"1954-04-04<br>Port-au-Prince - FIFA World Cup qualification<br>Haiti vs. United States<br>Score: 0 - 3\", \"1955-08-25<br>Reykjav\\u00edk - Friendly<br>Iceland vs. United States<br>Score: 3 - 2\", \"1956-10-31<br>Seoul - Friendly<br>South Korea vs. United States<br>Score: 1 - 0\", \"1956-11-10<br>Manila - Friendly<br>Philippines vs. United States<br>Score: 0 - 4\", \"1956-11-16<br>Jakarta - Friendly<br>Indonesia vs. United States<br>Score: 7 - 5\", \"1957-04-07<br>Mexico City - FIFA World Cup qualification<br>Mexico vs. United States<br>Score: 6 - 0\", \"1957-06-22<br>Toronto - FIFA World Cup qualification<br>Canada vs. United States<br>Score: 5 - 1\", \"1960-11-13<br>Mexico City - FIFA World Cup qualification<br>Mexico vs. United States<br>Score: 3 - 0\", \"1961-02-05<br>Bogot\\u00e1 - Friendly<br>Colombia vs. United States<br>Score: 2 - 0\", \"1965-03-12<br>Mexico City - FIFA World Cup qualification<br>Mexico vs. United States<br>Score: 2 - 0\", \"1965-03-17<br>San Pedro Sula - FIFA World Cup qualification<br>Honduras vs. United States<br>Score: 0 - 1\", \"1965-03-21<br>Tegucigalpa - FIFA World Cup qualification<br>Honduras vs. United States<br>Score: 1 - 1\", \"1968-10-20<br>Port-au-Prince - Friendly<br>Haiti vs. United States<br>Score: 3 - 6\", \"1968-10-21<br>Port-au-Prince - Friendly<br>Haiti vs. United States<br>Score: 5 - 2\", \"1968-10-23<br>Port-au-Prince - Friendly<br>Haiti vs. United States<br>Score: 1 - 0\", \"1968-11-11<br>Hamilton - FIFA World Cup qualification<br>Bermuda vs. United States<br>Score: 0 - 2\", \"1969-04-20<br>Port-au-Prince - FIFA World Cup qualification<br>Haiti vs. United States<br>Score: 2 - 0\", \"1972-08-20<br>St. John's - FIFA World Cup qualification<br>Canada vs. United States<br>Score: 3 - 2\", \"1972-09-03<br>Mexico City - FIFA World Cup qualification<br>Mexico vs. United States<br>Score: 3 - 1\", \"1973-03-17<br>Hamilton - Friendly<br>Bermuda vs. United States<br>Score: 4 - 0\", \"1973-03-20<br>\\u0141\\u00f3d\\u017a - Friendly<br>Poland vs. United States<br>Score: 4 - 0\", \"1973-08-05<br>Windsor - Friendly<br>Canada vs. United States<br>Score: 0 - 2\", \"1973-10-16<br>Mexico City - Friendly<br>Mexico vs. United States<br>Score: 2 - 0\", \"1973-11-03<br>Port-au-Prince - Friendly<br>Haiti vs. United States<br>Score: 1 - 0\", \"1973-11-05<br>Port-au-Prince - Friendly<br>Haiti vs. United States<br>Score: 1 - 0\", \"1973-11-13<br>Jaffa - Friendly<br>Israel vs. United States<br>Score: 3 - 1\", \"1973-11-15<br>Beersheba - Friendly<br>Israel vs. United States<br>Score: 2 - 0\", \"1974-09-05<br>Monterrey - Friendly<br>Mexico vs. United States<br>Score: 3 - 1\", \"1975-03-26<br>Pozna\\u0144 - Friendly<br>Poland vs. United States<br>Score: 7 - 0\", \"1975-04-02<br>Rome - Friendly<br>Italy vs. United States<br>Score: 10 - 0\", \"1975-08-24<br>Mexico City - Friendly<br>Mexico vs. United States<br>Score: 2 - 0\", \"1976-09-24<br>Vancouver - FIFA World Cup qualification<br>Canada vs. United States<br>Score: 1 - 1\", \"1976-10-15<br>Puebla - FIFA World Cup qualification<br>Mexico vs. United States<br>Score: 3 - 0\", \"1976-11-10<br>Port-au-Prince - Friendly<br>Haiti vs. United States<br>Score: 0 - 0\", \"1976-11-12<br>Port-au-Prince - Friendly<br>Haiti vs. United States<br>Score: 0 - 0\", \"1976-11-14<br>Port-au-Prince - Friendly<br>Haiti vs. United States<br>Score: 0 - 0\", \"1977-09-15<br>San Salvador - Friendly<br>El Salvador vs. United States<br>Score: 1 - 2\", \"1977-09-18<br>Guatemala - Friendly<br>Guatemala vs. United States<br>Score: 3 - 1\", \"1977-09-25<br>Guatemala - Friendly<br>Guatemala vs. United States<br>Score: 2 - 0\", \"1977-09-27<br>Monterrey - Friendly<br>Mexico vs. United States<br>Score: 3 - 0\", \"1978-09-03<br>Reykjav\\u00edk - Friendly<br>Iceland vs. United States<br>Score: 0 - 0\", \"1978-09-06<br>Lucerne - Friendly<br>Switzerland vs. United States<br>Score: 2 - 0\", \"1978-09-20<br>Set\\u00fabal - Friendly<br>Portugal vs. United States<br>Score: 1 - 0\", \"1979-10-07<br>Hamilton - Friendly<br>Bermuda vs. United States<br>Score: 1 - 3\", \"1979-10-10<br>Paris - Friendly<br>France vs. United States<br>Score: 3 - 0\", \"1979-10-26<br>Budapest - Friendly<br>Hungary vs. United States<br>Score: 0 - 2\", \"1979-10-29<br>Dublin - Friendly<br>Republic of Ireland vs. United States<br>Score: 3 - 2\", \"1980-10-04<br>Luxembourg - Friendly<br>Luxembourg vs. United States<br>Score: 0 - 2\", \"1980-10-07<br>Lisbon - Friendly<br>Portugal vs. United States<br>Score: 1 - 1\", \"1980-11-01<br>Vancouver - FIFA World Cup qualification<br>Canada vs. United States<br>Score: 2 - 1\", \"1980-11-09<br>Mexico City - FIFA World Cup qualification<br>Mexico vs. United States<br>Score: 5 - 1\", \"1982-03-21<br>Port of Spain - Friendly<br>Trinidad and Tobago vs. United States<br>Score: 1 - 2\", \"1983-04-08<br>Port-au-Prince - Friendly<br>Haiti vs. United States<br>Score: 0 - 2\", \"1984-10-14<br>Guatemala - Friendly<br>Guatemala vs. United States<br>Score: 4 - 0\", \"1984-10-17<br>Nezahualc\\u00f3yotl - Friendly<br>Mexico vs. United States<br>Score: 2 - 1\", \"1985-04-02<br>Vancouver - Friendly<br>Canada vs. United States<br>Score: 2 - 0\", \"1985-05-26<br>Alajuela - FIFA World Cup qualification<br>Costa Rica vs. United States<br>Score: 1 - 1\", \"1987-06-12<br>Busan - Korea Cup<br>South Korea vs. United States<br>Score: 1 - 0\", \"1988-01-10<br>Guatemala - Friendly<br>Guatemala vs. United States<br>Score: 1 - 0\", \"1988-01-13<br>Guatemala - Friendly<br>Guatemala vs. United States<br>Score: 0 - 1\", \"1988-07-24<br>Kingston - FIFA World Cup qualification<br>Jamaica vs. United States<br>Score: 0 - 0\", \"1989-04-16<br>San Jos\\u00e9 - FIFA World Cup qualification<br>Costa Rica vs. United States<br>Score: 1 - 0\", \"1989-10-08<br>Guatemala - FIFA World Cup qualification<br>Guatemala vs. United States<br>Score: 0 - 0\", \"1989-11-19<br>Port of Spain - FIFA World Cup qualification<br>Trinidad and Tobago vs. United States<br>Score: 0 - 1\", \"1990-02-13<br>Hamilton - Friendly<br>Bermuda vs. United States<br>Score: 0 - 1\", \"1990-03-20<br>Budapest - Friendly<br>Hungary vs. United States<br>Score: 2 - 0\", \"1990-03-28<br>Berlin - Friendly<br>German DR vs. United States<br>Score: 3 - 2\", \"1990-05-30<br>Eschen - Friendly<br>Liechtenstein vs. United States<br>Score: 1 - 4\", \"1990-06-02<br>St. Gallen - Friendly<br>Switzerland vs. United States<br>Score: 2 - 1\", \"1990-06-14<br>Rome - FIFA World Cup<br>Italy vs. United States<br>Score: 1 - 0\", \"1990-10-10<br>Warsaw - Friendly<br>Poland vs. United States<br>Score: 2 - 3\", \"1990-10-17<br>Zagreb - Friendly<br>Croatia vs. United States<br>Score: 2 - 1\", \"1990-11-18<br>Port of Spain - Friendly<br>Trinidad and Tobago vs. United States<br>Score: 0 - 0\", \"1990-12-19<br>Maia - Friendly<br>Portugal vs. United States<br>Score: 1 - 0\", \"1991-02-21<br>Hamilton - Friendly<br>Bermuda vs. United States<br>Score: 1 - 0\", \"1991-08-28<br>Bra\\u015fov - Friendly<br>Romania vs. United States<br>Score: 0 - 2\", \"1991-09-04<br>Istanbul - Friendly<br>Turkey vs. United States<br>Score: 1 - 1\", \"1992-02-12<br>San Jos\\u00e9 - Friendly<br>Costa Rica vs. United States<br>Score: 0 - 0\", \"1992-02-18<br>San Salvador - Friendly<br>El Salvador vs. United States<br>Score: 2 - 0\", \"1992-02-26<br>Fortaleza - Friendly<br>Brazil vs. United States<br>Score: 3 - 0\", \"1992-03-11<br>Valladolid - Friendly<br>Spain vs. United States<br>Score: 2 - 0\", \"1992-03-18<br>Casablanca - Friendly<br>Morocco vs. United States<br>Score: 3 - 1\", \"1992-04-29<br>Dublin - Friendly<br>Republic of Ireland vs. United States<br>Score: 4 - 1\", \"1992-09-03<br>Saint John - Friendly<br>Canada vs. United States<br>Score: 0 - 2\", \"1992-10-15<br>Riyadh - Confederations Cup<br>Saudi Arabia vs. United States<br>Score: 3 - 0\", \"1993-03-14<br>Tokyo - Kirin Cup<br>Japan vs. United States<br>Score: 3 - 1\", \"1993-03-23<br>San Salvador - Friendly<br>El Salvador vs. United States<br>Score: 2 - 2\", \"1993-03-25<br>Tegucigalpa - Friendly<br>Honduras vs. United States<br>Score: 4 - 1\", \"1993-06-19<br>Quito - Copa Am\\u00e9rica<br>Ecuador vs. United States<br>Score: 2 - 0\", \"1993-07-25<br>Mexico City - Gold Cup<br>Mexico vs. United States<br>Score: 4 - 0\", \"1993-08-31<br>Reykjav\\u00edk - Friendly<br>Iceland vs. United States<br>Score: 0 - 1\", \"1993-09-08<br>Oslo - Friendly<br>Norway vs. United States<br>Score: 1 - 0\", \"1994-09-07<br>London - Friendly<br>England vs. United States<br>Score: 2 - 0\", \"1994-10-19<br>Khobar - Friendly<br>Saudi Arabia vs. United States<br>Score: 2 - 1\", \"1994-11-19<br>Port of Spain - Friendly<br>Trinidad and Tobago vs. United States<br>Score: 1 - 0\", \"1994-11-22<br>Kingston - Friendly<br>Jamaica vs. United States<br>Score: 0 - 3\", \"1995-04-22<br>Brussels - Friendly<br>Belgium vs. United States<br>Score: 1 - 0\", \"1995-08-16<br>Norrk\\u00f6ping - Friendly<br>Sweden vs. United States<br>Score: 1 - 0\", \"1996-10-16<br>Lima - Friendly<br>Peru vs. United States<br>Score: 4 - 1\", \"1996-11-24<br>Port of Spain - FIFA World Cup qualification<br>Trinidad and Tobago vs. United States<br>Score: 0 - 1\", \"1996-12-01<br>San Jos\\u00e9 - FIFA World Cup qualification<br>Costa Rica vs. United States<br>Score: 2 - 1\", \"1997-01-29<br>Kunming - Friendly<br>China PR vs. United States<br>Score: 2 - 1\", \"1997-02-01<br>Guangzhou - Friendly<br>China PR vs. United States<br>Score: 1 - 1\", \"1997-03-02<br>Kingston - FIFA World Cup qualification<br>Jamaica vs. United States<br>Score: 0 - 0\", \"1997-03-23<br>San Jos\\u00e9 - FIFA World Cup qualification<br>Costa Rica vs. United States<br>Score: 3 - 2\", \"1997-06-29<br>San Salvador - FIFA World Cup qualification<br>El Salvador vs. United States<br>Score: 1 - 1\", \"1997-11-02<br>Mexico City - FIFA World Cup qualification<br>Mexico vs. United States<br>Score: 0 - 0\", \"1997-11-09<br>Burnaby - FIFA World Cup qualification<br>Canada vs. United States<br>Score: 0 - 3\", \"1998-02-25<br>Brussels - Friendly<br>Belgium vs. United States<br>Score: 2 - 0\", \"1998-04-22<br>Vienna - Friendly<br>Austria vs. United States<br>Score: 0 - 3\", \"1999-01-24<br>Santa Cruz - Friendly<br>Bolivia vs. United States<br>Score: 0 - 0\", \"1999-08-01<br>Mexico City - Confederations Cup<br>Mexico vs. United States<br>Score: 1 - 0\", \"1999-09-08<br>Kingston - Friendly<br>Jamaica vs. United States<br>Score: 2 - 2\", \"1999-11-17<br>Marrakech - Friendly<br>Morocco vs. United States<br>Score: 2 - 1\", \"2000-01-29<br>Coquimbo - Friendly<br>Chile vs. United States<br>Score: 1 - 2\", \"2000-04-26<br>Moscow - Friendly<br>Russia vs. United States<br>Score: 2 - 0\", \"2000-07-16<br>Mazatenango - FIFA World Cup qualification<br>Guatemala vs. United States<br>Score: 1 - 1\", \"2000-07-23<br>San Jos\\u00e9 - FIFA World Cup qualification<br>Costa Rica vs. United States<br>Score: 2 - 1\", \"2000-11-15<br>Bridgetown - FIFA World Cup qualification<br>Barbados vs. United States<br>Score: 0 - 4\", \"2001-03-28<br>San Pedro Sula - FIFA World Cup qualification<br>Honduras vs. United States<br>Score: 1 - 2\", \"2001-06-16<br>Kingston - FIFA World Cup qualification<br>Jamaica vs. United States<br>Score: 0 - 0\", \"2001-07-01<br>Mexico City - FIFA World Cup qualification<br>Mexico vs. United States<br>Score: 1 - 0\", \"2001-09-05<br>San Jos\\u00e9 - FIFA World Cup qualification<br>Costa Rica vs. United States<br>Score: 2 - 0\", \"2001-11-11<br>Port of Spain - FIFA World Cup qualification<br>Trinidad and Tobago vs. United States<br>Score: 0 - 0\", \"2001-12-09<br>Seogwipo - Friendly<br>South Korea vs. United States<br>Score: 1 - 0\", \"2002-02-13<br>Catania - Friendly<br>Italy vs. United States<br>Score: 1 - 0\", \"2002-03-27<br>Rostock - Friendly<br>Germany vs. United States<br>Score: 4 - 2\", \"2002-04-17<br>Dublin - Friendly<br>Republic of Ireland vs. United States<br>Score: 2 - 1\", \"2002-06-10<br>Daegu - FIFA World Cup<br>South Korea vs. United States<br>Score: 1 - 1\", \"2003-02-12<br>Kingston - Friendly<br>Jamaica vs. United States<br>Score: 1 - 2\", \"2004-02-18<br>Amsterdam - Friendly<br>Netherlands vs. United States<br>Score: 1 - 0\", \"2004-03-31<br>P\\u0142ock - Friendly<br>Poland vs. United States<br>Score: 0 - 1\", \"2004-06-20<br>St. George's - FIFA World Cup qualification<br>Grenada vs. United States<br>Score: 2 - 3\", \"2004-08-18<br>Kingston - FIFA World Cup qualification<br>Jamaica vs. United States<br>Score: 1 - 1\", \"2004-09-08<br>Panama City - FIFA World Cup qualification<br>Panama vs. United States<br>Score: 1 - 1\", \"2004-10-09<br>San Salvador - FIFA World Cup qualification<br>El Salvador vs. United States<br>Score: 0 - 2\", \"2005-02-09<br>Port of Spain - FIFA World Cup qualification<br>Trinidad and Tobago vs. United States<br>Score: 1 - 2\", \"2005-03-27<br>Mexico City - FIFA World Cup qualification<br>Mexico vs. United States<br>Score: 2 - 1\", \"2005-06-08<br>Panama City - FIFA World Cup qualification<br>Panama vs. United States<br>Score: 0 - 3\", \"2005-09-07<br>Guatemala - FIFA World Cup qualification<br>Guatemala vs. United States<br>Score: 0 - 0\", \"2005-10-08<br>San Jos\\u00e9 - FIFA World Cup qualification<br>Costa Rica vs. United States<br>Score: 3 - 0\", \"2005-11-12<br>Glasgow - Friendly<br>Scotland vs. United States<br>Score: 1 - 1\", \"2006-03-22<br>Dortmund - Friendly<br>Germany vs. United States<br>Score: 4 - 1\", \"2007-08-22<br>Gothenburg - Friendly<br>Sweden vs. United States<br>Score: 1 - 0\", \"2007-10-17<br>Basel - Friendly<br>Switzerland vs. United States<br>Score: 0 - 1\", \"2007-11-17<br>Johannesburg - Friendly<br>South Africa vs. United States<br>Score: 0 - 1\", \"2008-03-26<br>Cracow - Friendly<br>Poland vs. United States<br>Score: 0 - 3\", \"2008-05-28<br>London - Friendly<br>England vs. United States<br>Score: 2 - 0\", \"2008-06-04<br>Santander - Friendly<br>Spain vs. United States<br>Score: 1 - 0\", \"2008-06-22<br>Bridgetown - FIFA World Cup qualification<br>Barbados vs. United States<br>Score: 0 - 1\", \"2008-08-20<br>Guatemala - FIFA World Cup qualification<br>Guatemala vs. United States<br>Score: 0 - 1\", \"2008-09-06<br>Havana - FIFA World Cup qualification<br>Cuba vs. United States<br>Score: 0 - 1\", \"2008-10-15<br>Port of Spain - FIFA World Cup qualification<br>Trinidad and Tobago vs. United States<br>Score: 2 - 1\", \"2009-03-28<br>San Salvador - FIFA World Cup qualification<br>El Salvador vs. United States<br>Score: 2 - 2\", \"2009-06-03<br>San Jos\\u00e9 - FIFA World Cup qualification<br>Costa Rica vs. United States<br>Score: 3 - 1\", \"2009-08-12<br>Mexico City - FIFA World Cup qualification<br>Mexico vs. United States<br>Score: 2 - 1\", \"2009-09-09<br>Port of Spain - FIFA World Cup qualification<br>Trinidad and Tobago vs. United States<br>Score: 0 - 1\", \"2009-10-10<br>San Pedro Sula - FIFA World Cup qualification<br>Honduras vs. United States<br>Score: 2 - 3\", \"2009-11-14<br>Bratislava - Friendly<br>Slovakia vs. United States<br>Score: 1 - 0\", \"2009-11-18<br>\\u00c5rhus - Friendly<br>Denmark vs. United States<br>Score: 3 - 1\", \"2010-03-03<br>Amsterdam - Friendly<br>Netherlands vs. United States<br>Score: 2 - 1\", \"2010-11-17<br>Cape Town - Friendly<br>South Africa vs. United States<br>Score: 0 - 1\", \"2011-09-06<br>Brussels - Friendly<br>Belgium vs. United States<br>Score: 1 - 0\", \"2011-11-11<br>Saint-Denis - Friendly<br>France vs. United States<br>Score: 1 - 0\", \"2011-11-15<br>Ljubljana - Friendly<br>Slovenia vs. United States<br>Score: 2 - 3\", \"2012-01-25<br>Panama City - Friendly<br>Panama vs. United States<br>Score: 0 - 1\", \"2012-02-29<br>Genoa - Friendly<br>Italy vs. United States<br>Score: 0 - 1\", \"2012-06-03<br>Toronto - Friendly<br>Canada vs. United States<br>Score: 0 - 0\", \"2012-06-12<br>Guatemala - FIFA World Cup qualification<br>Guatemala vs. United States<br>Score: 1 - 1\", \"2012-08-15<br>Mexico City - Friendly<br>Mexico vs. United States<br>Score: 0 - 1\", \"2012-09-07<br>Kingston - FIFA World Cup qualification<br>Jamaica vs. United States<br>Score: 2 - 1\", \"2012-10-12<br>St. John's - FIFA World Cup qualification<br>Antigua and Barbuda vs. United States<br>Score: 1 - 2\", \"2012-11-14<br>Krasnodar - Friendly<br>Russia vs. United States<br>Score: 2 - 2\", \"2013-02-06<br>San Pedro Sula - FIFA World Cup qualification<br>Honduras vs. United States<br>Score: 2 - 1\", \"2013-03-26<br>Mexico City - FIFA World Cup qualification<br>Mexico vs. United States<br>Score: 0 - 0\", \"2013-06-07<br>Kingston - FIFA World Cup qualification<br>Jamaica vs. United States<br>Score: 1 - 2\", \"2013-08-14<br>Sarajevo - Friendly<br>Bosnia and Herzegovina vs. United States<br>Score: 3 - 4\", \"2013-09-06<br>San Jos\\u00e9 - FIFA World Cup qualification<br>Costa Rica vs. United States<br>Score: 3 - 1\", \"2013-10-15<br>Panama City - FIFA World Cup qualification<br>Panama vs. United States<br>Score: 2 - 3\", \"2013-11-15<br>Glasgow - Friendly<br>Scotland vs. United States<br>Score: 0 - 0\", \"2013-11-19<br>Vienna - Friendly<br>Austria vs. United States<br>Score: 1 - 0\", \"2014-09-03<br>Prague - Friendly<br>Czech Republic vs. United States<br>Score: 0 - 1\", \"2014-11-18<br>Dublin - Friendly<br>Republic of Ireland vs. United States<br>Score: 4 - 1\", \"2015-01-28<br>Rancagua - Friendly<br>Chile vs. United States<br>Score: 3 - 2\", \"2015-03-25<br>\\u00c5rhus - Friendly<br>Denmark vs. United States<br>Score: 3 - 2\", \"2015-03-31<br>Z\\u00fcrich - Friendly<br>Switzerland vs. United States<br>Score: 1 - 1\", \"2015-06-05<br>Amsterdam - Friendly<br>Netherlands vs. United States<br>Score: 3 - 4\", \"2015-06-10<br>Cologne - Friendly<br>Germany vs. United States<br>Score: 1 - 2\", \"2016-03-25<br>Guatemala - FIFA World Cup qualification<br>Guatemala vs. United States<br>Score: 2 - 0\", \"2016-05-22<br>Bayam\\u00f3n - Friendly<br>Puerto Rico vs. United States<br>Score: 1 - 3\", \"2016-09-02<br>Kingstown - FIFA World Cup qualification<br>Saint Vincent and the Grenadines vs. United States<br>Score: 0 - 6\", \"2016-10-07<br>Havana - Friendly<br>Cuba vs. United States<br>Score: 0 - 2\", \"2016-11-15<br>San Jos\\u00e9 - FIFA World Cup qualification<br>Costa Rica vs. United States<br>Score: 4 - 0\", \"2017-03-28<br>Panama City - FIFA World Cup qualification<br>Panama vs. United States<br>Score: 1 - 1\", \"2017-06-11<br>Mexico City - FIFA World Cup qualification<br>Mexico vs. United States<br>Score: 1 - 1\", \"2017-09-05<br>San Pedro Sula - FIFA World Cup qualification<br>Honduras vs. United States<br>Score: 1 - 1\", \"2017-10-10<br>Couva - FIFA World Cup qualification<br>Trinidad and Tobago vs. United States<br>Score: 2 - 1\", \"2017-11-14<br>Leiria - Friendly<br>Portugal vs. United States<br>Score: 1 - 1\", \"2018-06-02<br>Dublin - Friendly<br>Republic of Ireland vs. United States<br>Score: 2 - 1\", \"2018-06-09<br>Lyon - Friendly<br>France vs. United States<br>Score: 1 - 1\", \"2018-11-15<br>London - Friendly<br>England vs. United States<br>Score: 3 - 0\", \"1949-09-21<br>Mexico City - FIFA World Cup qualification<br>United States vs. Cuba<br>Score: 5 - 2\", \"1990-06-10<br>Florence - FIFA World Cup<br>United States vs. Czechoslovakia<br>Score: 1 - 5\", \"1990-11-21<br>Port of Spain - Friendly<br>United States vs. Russia<br>Score: 0 - 0\", \"1992-10-19<br>Riyadh - Confederations Cup<br>United States vs. Ivory Coast<br>Score: 5 - 2\", \"1993-06-22<br>Quito - Copa Am\\u00e9rica<br>United States vs. Venezuela<br>Score: 3 - 3\", \"1995-07-08<br>Paysand\\u00fa - Copa Am\\u00e9rica<br>United States vs. Chile<br>Score: 2 - 1\", \"1995-07-11<br>Paysand\\u00fa - Copa Am\\u00e9rica<br>United States vs. Bolivia<br>Score: 0 - 1\", \"1995-07-17<br>Paysand\\u00fa - Copa Am\\u00e9rica<br>United States vs. Mexico<br>Score: 0 - 0\", \"1995-07-20<br>Maldonado - Copa Am\\u00e9rica<br>United States vs. Brazil<br>Score: 0 - 1\", \"1998-06-21<br>Lyon - FIFA World Cup<br>United States vs. Iran<br>Score: 1 - 2\", \"1998-06-25<br>Nantes - FIFA World Cup<br>United States vs. Serbia<br>Score: 0 - 1\", \"1999-07-30<br>Guadalajara - Confederations Cup<br>United States vs. Germany<br>Score: 2 - 0\", \"1999-08-03<br>Guadalajara - Confederations Cup<br>United States vs. Saudi Arabia<br>Score: 2 - 0\", \"2002-06-05<br>Suwon - FIFA World Cup<br>United States vs. Portugal<br>Score: 3 - 2\", \"2003-06-23<br>Lyon - Confederations Cup<br>United States vs. Cameroon<br>Score: 0 - 0\", \"2006-06-12<br>Gelsenkirchen - FIFA World Cup<br>United States vs. Czech Republic<br>Score: 0 - 3\", \"2007-07-02<br>Barinas - Copa Am\\u00e9rica<br>United States vs. Paraguay<br>Score: 1 - 3\", \"2009-06-15<br>Pretoria - Confederations Cup<br>United States vs. Italy<br>Score: 1 - 3\", \"2009-06-18<br>Pretoria - Confederations Cup<br>United States vs. Brazil<br>Score: 0 - 3\", \"2009-06-28<br>Johannesburg - Confederations Cup<br>United States vs. Brazil<br>Score: 2 - 3\", \"2010-06-23<br>Pretoria - FIFA World Cup<br>United States vs. Algeria<br>Score: 1 - 0\", \"2010-06-26<br>Rustenburg - FIFA World Cup<br>United States vs. Ghana<br>Score: 1 - 2\", \"2014-06-22<br>Manaus - FIFA World Cup<br>United States vs. Portugal<br>Score: 2 - 2\", \"2014-06-26<br>Recife - FIFA World Cup<br>United States vs. Germany<br>Score: 0 - 1\", \"2014-11-14<br>London - Friendly<br>United States vs. Colombia<br>Score: 1 - 2\", \"1930-07-13<br>Montevideo - FIFA World Cup<br>United States vs. Belgium<br>Score: 0 - 3\", \"1930-07-17<br>Montevideo - FIFA World Cup<br>United States vs. Paraguay<br>Score: 0 - 3\", \"1930-07-26<br>Montevideo - FIFA World Cup<br>United States vs. Argentina<br>Score: 6 - 1\", \"1934-05-24<br>Rome - FIFA World Cup qualification<br>United States vs. Mexico<br>Score: 2 - 4\", \"1947-07-13<br>Havana - NAFU Championship<br>United States vs. Mexico<br>Score: 5 - 0\", \"1949-09-14<br>Mexico City - FIFA World Cup qualification<br>United States vs. Cuba<br>Score: 1 - 1\", \"1950-06-25<br>Curitiba - FIFA World Cup<br>United States vs. Spain<br>Score: 3 - 1\", \"1950-06-29<br>Belo Horizonte - FIFA World Cup<br>United States vs. England<br>Score: 0 - 1\", \"1950-07-02<br>Recife - FIFA World Cup<br>United States vs. Chile<br>Score: 5 - 2\", \"1975-08-19<br>Mexico City - Friendly<br>United States vs. Costa Rica<br>Score: 3 - 1\", \"1975-08-21<br>Mexico City - Friendly<br>United States vs. Argentina<br>Score: 6 - 0\", \"1976-12-22<br>Port-au-Prince - FIFA World Cup qualification<br>United States vs. Canada<br>Score: 3 - 0\", \"1984-09-29<br>Willemstad - FIFA World Cup qualification<br>United States vs. Cura\\u00e7ao<br>Score: 0 - 0\", \"1987-06-08<br>Seoul - Korea Cup<br>United States vs. Egypt<br>Score: 3 - 1\", \"1987-06-16<br>Cheongju - Korea Cup<br>United States vs. Thailand<br>Score: 0 - 1\", \"1989-09-17<br>Tegucigalpa - FIFA World Cup qualification<br>United States vs. El Salvador<br>Score: 0 - 1\", \"1990-06-19<br>Florence - FIFA World Cup<br>United States vs. Austria<br>Score: 2 - 1\", \"1993-03-10<br>Nagoya - Kirin Cup<br>United States vs. Hungary<br>Score: 0 - 0\", \"1993-06-16<br>Ambato - Copa Am\\u00e9rica<br>United States vs. Uruguay<br>Score: 1 - 0\", \"1994-02-13<br>Kowloon - Lunar New Year Cup<br>United States vs. Romania<br>Score: 2 - 1\", \"1995-07-14<br>Paysand\\u00fa - Copa Am\\u00e9rica<br>United States vs. Argentina<br>Score: 0 - 3\", \"1995-07-22<br>Maldonado - Copa Am\\u00e9rica<br>United States vs. Colombia<br>Score: 4 - 1\", \"1996-12-21<br>San Salvador - FIFA World Cup qualification<br>United States vs. Guatemala<br>Score: 2 - 2\", \"1998-06-15<br>Paris - FIFA World Cup<br>United States vs. Germany<br>Score: 2 - 0\", \"1999-07-24<br>Guadalajara - Confederations Cup<br>United States vs. New Zealand<br>Score: 1 - 2\", \"1999-07-28<br>Guadalajara - Confederations Cup<br>United States vs. Brazil<br>Score: 1 - 0\", \"2002-06-14<br>Daejeon - FIFA World Cup<br>United States vs. Poland<br>Score: 3 - 1\", \"2002-06-17<br>Jeonju - FIFA World Cup<br>United States vs. Mexico<br>Score: 0 - 2\", \"2002-06-21<br>Ulsan - FIFA World Cup<br>United States vs. Germany<br>Score: 1 - 0\", \"2003-06-19<br>Saint-\\u00c9tienne - Confederations Cup<br>United States vs. Turkey<br>Score: 2 - 1\", \"2003-06-21<br>Lyon - Confederations Cup<br>United States vs. Brazil<br>Score: 1 - 0\", \"2006-03-01<br>Kaiserslautern - Friendly<br>United States vs. Poland<br>Score: 0 - 1\", \"2006-06-17<br>Kaiserslautern - FIFA World Cup<br>United States vs. Italy<br>Score: 1 - 1\", \"2006-06-22<br>Nuremberg - FIFA World Cup<br>United States vs. Ghana<br>Score: 2 - 1\", \"2007-06-28<br>Maracaibo - Copa Am\\u00e9rica<br>United States vs. Argentina<br>Score: 4 - 1\", \"2007-07-05<br>Barquisimeto - Copa Am\\u00e9rica<br>United States vs. Colombia<br>Score: 1 - 0\", \"2009-06-21<br>Rustenburg - Confederations Cup<br>United States vs. Egypt<br>Score: 0 - 3\", \"2009-06-24<br>Bloemfontein - Confederations Cup<br>United States vs. Spain<br>Score: 0 - 2\", \"2010-06-05<br>Roodepoort - Friendly<br>United States vs. Australia<br>Score: 1 - 3\", \"2010-06-12<br>Rustenburg - FIFA World Cup<br>United States vs. England<br>Score: 1 - 1\", \"2010-06-18<br>Johannesburg - FIFA World Cup<br>United States vs. Slovenia<br>Score: 2 - 2\", \"2014-03-05<br>Larnaca - Friendly<br>United States vs. Ukraine<br>Score: 2 - 0\", \"2014-06-16<br>Natal - FIFA World Cup<br>United States vs. Ghana<br>Score: 1 - 2\", \"2014-07-01<br>Salvador - FIFA World Cup<br>United States vs. Belgium<br>Score: 2 - 1\", \"2018-11-20<br>Genk - Friendly<br>United States vs. Italy<br>Score: 1 - 0\"], \"type\": \"scattergeo\"}],\n",
              "                        {\"geo\": {\"projection\": {\"type\": \"natural earth\"}, \"scope\": \"world\"}, \"template\": {\"data\": {\"bar\": [{\"error_x\": {\"color\": \"#2a3f5f\"}, \"error_y\": {\"color\": \"#2a3f5f\"}, \"marker\": {\"line\": {\"color\": \"#E5ECF6\", \"width\": 0.5}}, \"type\": \"bar\"}], \"barpolar\": [{\"marker\": {\"line\": {\"color\": \"#E5ECF6\", \"width\": 0.5}}, \"type\": \"barpolar\"}], \"carpet\": [{\"aaxis\": {\"endlinecolor\": \"#2a3f5f\", \"gridcolor\": \"white\", \"linecolor\": \"white\", \"minorgridcolor\": \"white\", \"startlinecolor\": \"#2a3f5f\"}, \"baxis\": {\"endlinecolor\": \"#2a3f5f\", \"gridcolor\": \"white\", \"linecolor\": \"white\", \"minorgridcolor\": \"white\", \"startlinecolor\": \"#2a3f5f\"}, \"type\": \"carpet\"}], \"choropleth\": [{\"colorbar\": {\"outlinewidth\": 0, \"ticks\": \"\"}, \"type\": \"choropleth\"}], \"contour\": [{\"colorbar\": {\"outlinewidth\": 0, \"ticks\": \"\"}, \"colorscale\": [[0.0, \"#0d0887\"], [0.1111111111111111, \"#46039f\"], [0.2222222222222222, \"#7201a8\"], [0.3333333333333333, \"#9c179e\"], [0.4444444444444444, \"#bd3786\"], [0.5555555555555556, \"#d8576b\"], [0.6666666666666666, \"#ed7953\"], [0.7777777777777778, \"#fb9f3a\"], [0.8888888888888888, \"#fdca26\"], [1.0, \"#f0f921\"]], \"type\": \"contour\"}], \"contourcarpet\": [{\"colorbar\": {\"outlinewidth\": 0, \"ticks\": \"\"}, \"type\": \"contourcarpet\"}], \"heatmap\": [{\"colorbar\": {\"outlinewidth\": 0, \"ticks\": \"\"}, \"colorscale\": [[0.0, \"#0d0887\"], [0.1111111111111111, \"#46039f\"], [0.2222222222222222, \"#7201a8\"], [0.3333333333333333, \"#9c179e\"], [0.4444444444444444, \"#bd3786\"], [0.5555555555555556, \"#d8576b\"], [0.6666666666666666, \"#ed7953\"], [0.7777777777777778, \"#fb9f3a\"], [0.8888888888888888, \"#fdca26\"], [1.0, \"#f0f921\"]], \"type\": \"heatmap\"}], \"heatmapgl\": [{\"colorbar\": {\"outlinewidth\": 0, \"ticks\": \"\"}, \"colorscale\": [[0.0, \"#0d0887\"], [0.1111111111111111, \"#46039f\"], [0.2222222222222222, \"#7201a8\"], [0.3333333333333333, \"#9c179e\"], [0.4444444444444444, \"#bd3786\"], [0.5555555555555556, \"#d8576b\"], [0.6666666666666666, \"#ed7953\"], [0.7777777777777778, \"#fb9f3a\"], [0.8888888888888888, \"#fdca26\"], [1.0, \"#f0f921\"]], \"type\": \"heatmapgl\"}], \"histogram\": [{\"marker\": {\"colorbar\": {\"outlinewidth\": 0, \"ticks\": \"\"}}, \"type\": \"histogram\"}], \"histogram2d\": [{\"colorbar\": {\"outlinewidth\": 0, \"ticks\": \"\"}, \"colorscale\": [[0.0, \"#0d0887\"], [0.1111111111111111, \"#46039f\"], [0.2222222222222222, \"#7201a8\"], [0.3333333333333333, \"#9c179e\"], [0.4444444444444444, \"#bd3786\"], [0.5555555555555556, \"#d8576b\"], [0.6666666666666666, \"#ed7953\"], [0.7777777777777778, \"#fb9f3a\"], [0.8888888888888888, \"#fdca26\"], [1.0, \"#f0f921\"]], \"type\": \"histogram2d\"}], \"histogram2dcontour\": [{\"colorbar\": {\"outlinewidth\": 0, \"ticks\": \"\"}, \"colorscale\": [[0.0, \"#0d0887\"], [0.1111111111111111, \"#46039f\"], [0.2222222222222222, \"#7201a8\"], [0.3333333333333333, \"#9c179e\"], [0.4444444444444444, \"#bd3786\"], [0.5555555555555556, \"#d8576b\"], [0.6666666666666666, \"#ed7953\"], [0.7777777777777778, \"#fb9f3a\"], [0.8888888888888888, \"#fdca26\"], [1.0, \"#f0f921\"]], \"type\": \"histogram2dcontour\"}], \"mesh3d\": [{\"colorbar\": {\"outlinewidth\": 0, \"ticks\": \"\"}, \"type\": \"mesh3d\"}], \"parcoords\": [{\"line\": {\"colorbar\": {\"outlinewidth\": 0, \"ticks\": \"\"}}, \"type\": \"parcoords\"}], \"scatter\": [{\"marker\": {\"colorbar\": {\"outlinewidth\": 0, \"ticks\": \"\"}}, \"type\": \"scatter\"}], \"scatter3d\": [{\"line\": {\"colorbar\": {\"outlinewidth\": 0, \"ticks\": \"\"}}, \"marker\": {\"colorbar\": {\"outlinewidth\": 0, \"ticks\": \"\"}}, \"type\": \"scatter3d\"}], \"scattercarpet\": [{\"marker\": {\"colorbar\": {\"outlinewidth\": 0, \"ticks\": \"\"}}, \"type\": \"scattercarpet\"}], \"scattergeo\": [{\"marker\": {\"colorbar\": {\"outlinewidth\": 0, \"ticks\": \"\"}}, \"type\": \"scattergeo\"}], \"scattergl\": [{\"marker\": {\"colorbar\": {\"outlinewidth\": 0, \"ticks\": \"\"}}, \"type\": \"scattergl\"}], \"scattermapbox\": [{\"marker\": {\"colorbar\": {\"outlinewidth\": 0, \"ticks\": \"\"}}, \"type\": \"scattermapbox\"}], \"scatterpolar\": [{\"marker\": {\"colorbar\": {\"outlinewidth\": 0, \"ticks\": \"\"}}, \"type\": \"scatterpolar\"}], \"scatterpolargl\": [{\"marker\": {\"colorbar\": {\"outlinewidth\": 0, \"ticks\": \"\"}}, \"type\": \"scatterpolargl\"}], \"scatterternary\": [{\"marker\": {\"colorbar\": {\"outlinewidth\": 0, \"ticks\": \"\"}}, \"type\": \"scatterternary\"}], \"surface\": [{\"colorbar\": {\"outlinewidth\": 0, \"ticks\": \"\"}, \"colorscale\": [[0.0, \"#0d0887\"], [0.1111111111111111, \"#46039f\"], [0.2222222222222222, \"#7201a8\"], [0.3333333333333333, \"#9c179e\"], [0.4444444444444444, \"#bd3786\"], [0.5555555555555556, \"#d8576b\"], [0.6666666666666666, \"#ed7953\"], [0.7777777777777778, \"#fb9f3a\"], [0.8888888888888888, \"#fdca26\"], [1.0, \"#f0f921\"]], \"type\": \"surface\"}], \"table\": [{\"cells\": {\"fill\": {\"color\": \"#EBF0F8\"}, \"line\": {\"color\": \"white\"}}, \"header\": {\"fill\": {\"color\": \"#C8D4E3\"}, \"line\": {\"color\": \"white\"}}, \"type\": \"table\"}]}, \"layout\": {\"annotationdefaults\": {\"arrowcolor\": \"#2a3f5f\", \"arrowhead\": 0, \"arrowwidth\": 1}, \"colorscale\": {\"diverging\": [[0, \"#8e0152\"], [0.1, \"#c51b7d\"], [0.2, \"#de77ae\"], [0.3, \"#f1b6da\"], [0.4, \"#fde0ef\"], [0.5, \"#f7f7f7\"], [0.6, \"#e6f5d0\"], [0.7, \"#b8e186\"], [0.8, \"#7fbc41\"], [0.9, \"#4d9221\"], [1, \"#276419\"]], \"sequential\": [[0.0, \"#0d0887\"], [0.1111111111111111, \"#46039f\"], [0.2222222222222222, \"#7201a8\"], [0.3333333333333333, \"#9c179e\"], [0.4444444444444444, \"#bd3786\"], [0.5555555555555556, \"#d8576b\"], [0.6666666666666666, \"#ed7953\"], [0.7777777777777778, \"#fb9f3a\"], [0.8888888888888888, \"#fdca26\"], [1.0, \"#f0f921\"]], \"sequentialminus\": [[0.0, \"#0d0887\"], [0.1111111111111111, \"#46039f\"], [0.2222222222222222, \"#7201a8\"], [0.3333333333333333, \"#9c179e\"], [0.4444444444444444, \"#bd3786\"], [0.5555555555555556, \"#d8576b\"], [0.6666666666666666, \"#ed7953\"], [0.7777777777777778, \"#fb9f3a\"], [0.8888888888888888, \"#fdca26\"], [1.0, \"#f0f921\"]]}, \"colorway\": [\"#636efa\", \"#EF553B\", \"#00cc96\", \"#ab63fa\", \"#FFA15A\", \"#19d3f3\", \"#FF6692\", \"#B6E880\", \"#FF97FF\", \"#FECB52\"], \"font\": {\"color\": \"#2a3f5f\"}, \"geo\": {\"bgcolor\": \"white\", \"lakecolor\": \"white\", \"landcolor\": \"#E5ECF6\", \"showlakes\": true, \"showland\": true, \"subunitcolor\": \"white\"}, \"hoverlabel\": {\"align\": \"left\"}, \"hovermode\": \"closest\", \"mapbox\": {\"style\": \"light\"}, \"paper_bgcolor\": \"white\", \"plot_bgcolor\": \"#E5ECF6\", \"polar\": {\"angularaxis\": {\"gridcolor\": \"white\", \"linecolor\": \"white\", \"ticks\": \"\"}, \"bgcolor\": \"#E5ECF6\", \"radialaxis\": {\"gridcolor\": \"white\", \"linecolor\": \"white\", \"ticks\": \"\"}}, \"scene\": {\"xaxis\": {\"backgroundcolor\": \"#E5ECF6\", \"gridcolor\": \"white\", \"gridwidth\": 2, \"linecolor\": \"white\", \"showbackground\": true, \"ticks\": \"\", \"zerolinecolor\": \"white\"}, \"yaxis\": {\"backgroundcolor\": \"#E5ECF6\", \"gridcolor\": \"white\", \"gridwidth\": 2, \"linecolor\": \"white\", \"showbackground\": true, \"ticks\": \"\", \"zerolinecolor\": \"white\"}, \"zaxis\": {\"backgroundcolor\": \"#E5ECF6\", \"gridcolor\": \"white\", \"gridwidth\": 2, \"linecolor\": \"white\", \"showbackground\": true, \"ticks\": \"\", \"zerolinecolor\": \"white\"}}, \"shapedefaults\": {\"line\": {\"color\": \"#2a3f5f\"}}, \"ternary\": {\"aaxis\": {\"gridcolor\": \"white\", \"linecolor\": \"white\", \"ticks\": \"\"}, \"baxis\": {\"gridcolor\": \"white\", \"linecolor\": \"white\", \"ticks\": \"\"}, \"bgcolor\": \"#E5ECF6\", \"caxis\": {\"gridcolor\": \"white\", \"linecolor\": \"white\", \"ticks\": \"\"}}, \"title\": {\"x\": 0.05}, \"xaxis\": {\"automargin\": true, \"gridcolor\": \"white\", \"linecolor\": \"white\", \"ticks\": \"\", \"zerolinecolor\": \"white\", \"zerolinewidth\": 2}, \"yaxis\": {\"automargin\": true, \"gridcolor\": \"white\", \"linecolor\": \"white\", \"ticks\": \"\", \"zerolinecolor\": \"white\", \"zerolinewidth\": 2}}}, \"title\": {\"text\": \"US International Soccer Matches Since 1885\"}},\n",
              "                        {\"responsive\": true}\n",
              "                    ).then(function(){\n",
              "                            \n",
              "var gd = document.getElementById('4f580e44-2819-46e1-8c78-6d33579c1559');\n",
              "var x = new MutationObserver(function (mutations, observer) {{\n",
              "        var display = window.getComputedStyle(gd).display;\n",
              "        if (!display || display === 'none') {{\n",
              "            console.log([gd, 'removed!']);\n",
              "            Plotly.purge(gd);\n",
              "            observer.disconnect();\n",
              "        }}\n",
              "}});\n",
              "\n",
              "// Listen for the removal of the full notebook cells\n",
              "var notebookContainer = gd.closest('#notebook-container');\n",
              "if (notebookContainer) {{\n",
              "    x.observe(notebookContainer, {childList: true});\n",
              "}}\n",
              "\n",
              "// Listen for the clearing of the current output cell\n",
              "var outputEl = gd.closest('.output');\n",
              "if (outputEl) {{\n",
              "    x.observe(outputEl, {childList: true});\n",
              "}}\n",
              "\n",
              "                        })\n",
              "                };\n",
              "                \n",
              "            </script>\n",
              "        </div>\n",
              "</body>\n",
              "</html>"
            ]
          },
          "metadata": {
            "tags": []
          }
        }
      ]
    }
  ]
}